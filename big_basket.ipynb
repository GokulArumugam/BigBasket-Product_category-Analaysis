{
 "cells": [
  {
   "cell_type": "markdown",
   "metadata": {},
   "source": [
    "# Big Basket Data Analaysis\n",
    "![alt text](data:image/png;base64,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)"
   ]
  },
  {
   "cell_type": "code",
   "execution_count": 1,
   "metadata": {},
   "outputs": [],
   "source": [
    "import numpy as np\n",
    "import pandas as pd\n",
    "import matplotlib.pyplot as plt\n",
    "import seaborn as sns\n",
    "import plotly.express as px\n",
    "import plotly.io as pio"
   ]
  },
  {
   "cell_type": "code",
   "execution_count": 2,
   "metadata": {},
   "outputs": [],
   "source": [
    "df = pd.read_csv(\"C:\\\\Users\\\\gokul\\\\Downloads\\\\BigBasket Products.csv\")"
   ]
  },
  {
   "cell_type": "code",
   "execution_count": 3,
   "metadata": {},
   "outputs": [
    {
     "data": {
      "text/html": [
       "<div>\n",
       "<style scoped>\n",
       "    .dataframe tbody tr th:only-of-type {\n",
       "        vertical-align: middle;\n",
       "    }\n",
       "\n",
       "    .dataframe tbody tr th {\n",
       "        vertical-align: top;\n",
       "    }\n",
       "\n",
       "    .dataframe thead th {\n",
       "        text-align: right;\n",
       "    }\n",
       "</style>\n",
       "<table border=\"1\" class=\"dataframe\">\n",
       "  <thead>\n",
       "    <tr style=\"text-align: right;\">\n",
       "      <th></th>\n",
       "      <th>index</th>\n",
       "      <th>product</th>\n",
       "      <th>category</th>\n",
       "      <th>sub_category</th>\n",
       "      <th>brand</th>\n",
       "      <th>sale_price</th>\n",
       "      <th>market_price</th>\n",
       "      <th>type</th>\n",
       "      <th>rating</th>\n",
       "      <th>description</th>\n",
       "    </tr>\n",
       "  </thead>\n",
       "  <tbody>\n",
       "    <tr>\n",
       "      <th>0</th>\n",
       "      <td>1</td>\n",
       "      <td>Garlic Oil - Vegetarian Capsule 500 mg</td>\n",
       "      <td>Beauty &amp; Hygiene</td>\n",
       "      <td>Hair Care</td>\n",
       "      <td>Sri Sri Ayurveda</td>\n",
       "      <td>220.0</td>\n",
       "      <td>220.0</td>\n",
       "      <td>Hair Oil &amp; Serum</td>\n",
       "      <td>4.1</td>\n",
       "      <td>This Product contains Garlic Oil that is known...</td>\n",
       "    </tr>\n",
       "    <tr>\n",
       "      <th>1</th>\n",
       "      <td>2</td>\n",
       "      <td>Water Bottle - Orange</td>\n",
       "      <td>Kitchen, Garden &amp; Pets</td>\n",
       "      <td>Storage &amp; Accessories</td>\n",
       "      <td>Mastercook</td>\n",
       "      <td>180.0</td>\n",
       "      <td>180.0</td>\n",
       "      <td>Water &amp; Fridge Bottles</td>\n",
       "      <td>2.3</td>\n",
       "      <td>Each product is microwave safe (without lid), ...</td>\n",
       "    </tr>\n",
       "    <tr>\n",
       "      <th>2</th>\n",
       "      <td>3</td>\n",
       "      <td>Brass Angle Deep - Plain, No.2</td>\n",
       "      <td>Cleaning &amp; Household</td>\n",
       "      <td>Pooja Needs</td>\n",
       "      <td>Trm</td>\n",
       "      <td>119.0</td>\n",
       "      <td>250.0</td>\n",
       "      <td>Lamp &amp; Lamp Oil</td>\n",
       "      <td>3.4</td>\n",
       "      <td>A perfect gift for all occasions, be it your m...</td>\n",
       "    </tr>\n",
       "    <tr>\n",
       "      <th>3</th>\n",
       "      <td>4</td>\n",
       "      <td>Cereal Flip Lid Container/Storage Jar - Assort...</td>\n",
       "      <td>Cleaning &amp; Household</td>\n",
       "      <td>Bins &amp; Bathroom Ware</td>\n",
       "      <td>Nakoda</td>\n",
       "      <td>149.0</td>\n",
       "      <td>176.0</td>\n",
       "      <td>Laundry, Storage Baskets</td>\n",
       "      <td>3.7</td>\n",
       "      <td>Multipurpose container with an attractive desi...</td>\n",
       "    </tr>\n",
       "    <tr>\n",
       "      <th>4</th>\n",
       "      <td>5</td>\n",
       "      <td>Creme Soft Soap - For Hands &amp; Body</td>\n",
       "      <td>Beauty &amp; Hygiene</td>\n",
       "      <td>Bath &amp; Hand Wash</td>\n",
       "      <td>Nivea</td>\n",
       "      <td>162.0</td>\n",
       "      <td>162.0</td>\n",
       "      <td>Bathing Bars &amp; Soaps</td>\n",
       "      <td>4.4</td>\n",
       "      <td>Nivea Creme Soft Soap gives your skin the best...</td>\n",
       "    </tr>\n",
       "  </tbody>\n",
       "</table>\n",
       "</div>"
      ],
      "text/plain": [
       "   index                                            product  \\\n",
       "0      1             Garlic Oil - Vegetarian Capsule 500 mg   \n",
       "1      2                              Water Bottle - Orange   \n",
       "2      3                     Brass Angle Deep - Plain, No.2   \n",
       "3      4  Cereal Flip Lid Container/Storage Jar - Assort...   \n",
       "4      5                 Creme Soft Soap - For Hands & Body   \n",
       "\n",
       "                 category           sub_category              brand  \\\n",
       "0        Beauty & Hygiene              Hair Care  Sri Sri Ayurveda    \n",
       "1  Kitchen, Garden & Pets  Storage & Accessories         Mastercook   \n",
       "2    Cleaning & Household            Pooja Needs                Trm   \n",
       "3    Cleaning & Household   Bins & Bathroom Ware             Nakoda   \n",
       "4        Beauty & Hygiene       Bath & Hand Wash              Nivea   \n",
       "\n",
       "   sale_price  market_price                      type  rating  \\\n",
       "0       220.0         220.0          Hair Oil & Serum     4.1   \n",
       "1       180.0         180.0    Water & Fridge Bottles     2.3   \n",
       "2       119.0         250.0           Lamp & Lamp Oil     3.4   \n",
       "3       149.0         176.0  Laundry, Storage Baskets     3.7   \n",
       "4       162.0         162.0      Bathing Bars & Soaps     4.4   \n",
       "\n",
       "                                         description  \n",
       "0  This Product contains Garlic Oil that is known...  \n",
       "1  Each product is microwave safe (without lid), ...  \n",
       "2  A perfect gift for all occasions, be it your m...  \n",
       "3  Multipurpose container with an attractive desi...  \n",
       "4  Nivea Creme Soft Soap gives your skin the best...  "
      ]
     },
     "execution_count": 3,
     "metadata": {},
     "output_type": "execute_result"
    }
   ],
   "source": [
    "df.head()"
   ]
  },
  {
   "cell_type": "code",
   "execution_count": 4,
   "metadata": {},
   "outputs": [
    {
     "name": "stdout",
     "output_type": "stream",
     "text": [
      "<class 'pandas.core.frame.DataFrame'>\n",
      "RangeIndex: 27555 entries, 0 to 27554\n",
      "Data columns (total 10 columns):\n",
      " #   Column        Non-Null Count  Dtype  \n",
      "---  ------        --------------  -----  \n",
      " 0   index         27555 non-null  int64  \n",
      " 1   product       27554 non-null  object \n",
      " 2   category      27555 non-null  object \n",
      " 3   sub_category  27555 non-null  object \n",
      " 4   brand         27554 non-null  object \n",
      " 5   sale_price    27555 non-null  float64\n",
      " 6   market_price  27555 non-null  float64\n",
      " 7   type          27555 non-null  object \n",
      " 8   rating        18929 non-null  float64\n",
      " 9   description   27440 non-null  object \n",
      "dtypes: float64(3), int64(1), object(6)\n",
      "memory usage: 2.1+ MB\n"
     ]
    }
   ],
   "source": [
    "df.info()"
   ]
  },
  {
   "cell_type": "code",
   "execution_count": 5,
   "metadata": {},
   "outputs": [
    {
     "data": {
      "text/plain": [
       "index           27555\n",
       "product         27554\n",
       "category        27555\n",
       "sub_category    27555\n",
       "brand           27554\n",
       "sale_price      27555\n",
       "market_price    27555\n",
       "type            27555\n",
       "rating          18929\n",
       "description     27440\n",
       "dtype: int64"
      ]
     },
     "execution_count": 5,
     "metadata": {},
     "output_type": "execute_result"
    }
   ],
   "source": [
    "df.count()"
   ]
  },
  {
   "cell_type": "code",
   "execution_count": 6,
   "metadata": {},
   "outputs": [
    {
     "data": {
      "text/plain": [
       "index           27555\n",
       "product         27555\n",
       "category        27555\n",
       "sub_category    27555\n",
       "brand           27555\n",
       "sale_price      27555\n",
       "market_price    27555\n",
       "type            27555\n",
       "rating          27555\n",
       "description     27555\n",
       "dtype: int64"
      ]
     },
     "execution_count": 6,
     "metadata": {},
     "output_type": "execute_result"
    }
   ],
   "source": [
    "df.isnull().count()"
   ]
  },
  {
   "cell_type": "code",
   "execution_count": 7,
   "metadata": {},
   "outputs": [],
   "source": [
    "df = df.set_index(\"index\")"
   ]
  },
  {
   "cell_type": "code",
   "execution_count": 8,
   "metadata": {},
   "outputs": [
    {
     "data": {
      "text/html": [
       "<div>\n",
       "<style scoped>\n",
       "    .dataframe tbody tr th:only-of-type {\n",
       "        vertical-align: middle;\n",
       "    }\n",
       "\n",
       "    .dataframe tbody tr th {\n",
       "        vertical-align: top;\n",
       "    }\n",
       "\n",
       "    .dataframe thead th {\n",
       "        text-align: right;\n",
       "    }\n",
       "</style>\n",
       "<table border=\"1\" class=\"dataframe\">\n",
       "  <thead>\n",
       "    <tr style=\"text-align: right;\">\n",
       "      <th></th>\n",
       "      <th>product</th>\n",
       "      <th>category</th>\n",
       "      <th>sub_category</th>\n",
       "      <th>brand</th>\n",
       "      <th>sale_price</th>\n",
       "      <th>market_price</th>\n",
       "      <th>type</th>\n",
       "      <th>rating</th>\n",
       "      <th>description</th>\n",
       "    </tr>\n",
       "    <tr>\n",
       "      <th>index</th>\n",
       "      <th></th>\n",
       "      <th></th>\n",
       "      <th></th>\n",
       "      <th></th>\n",
       "      <th></th>\n",
       "      <th></th>\n",
       "      <th></th>\n",
       "      <th></th>\n",
       "      <th></th>\n",
       "    </tr>\n",
       "  </thead>\n",
       "  <tbody>\n",
       "    <tr>\n",
       "      <th>1</th>\n",
       "      <td>Garlic Oil - Vegetarian Capsule 500 mg</td>\n",
       "      <td>Beauty &amp; Hygiene</td>\n",
       "      <td>Hair Care</td>\n",
       "      <td>Sri Sri Ayurveda</td>\n",
       "      <td>220.0</td>\n",
       "      <td>220.0</td>\n",
       "      <td>Hair Oil &amp; Serum</td>\n",
       "      <td>4.1</td>\n",
       "      <td>This Product contains Garlic Oil that is known...</td>\n",
       "    </tr>\n",
       "    <tr>\n",
       "      <th>2</th>\n",
       "      <td>Water Bottle - Orange</td>\n",
       "      <td>Kitchen, Garden &amp; Pets</td>\n",
       "      <td>Storage &amp; Accessories</td>\n",
       "      <td>Mastercook</td>\n",
       "      <td>180.0</td>\n",
       "      <td>180.0</td>\n",
       "      <td>Water &amp; Fridge Bottles</td>\n",
       "      <td>2.3</td>\n",
       "      <td>Each product is microwave safe (without lid), ...</td>\n",
       "    </tr>\n",
       "    <tr>\n",
       "      <th>3</th>\n",
       "      <td>Brass Angle Deep - Plain, No.2</td>\n",
       "      <td>Cleaning &amp; Household</td>\n",
       "      <td>Pooja Needs</td>\n",
       "      <td>Trm</td>\n",
       "      <td>119.0</td>\n",
       "      <td>250.0</td>\n",
       "      <td>Lamp &amp; Lamp Oil</td>\n",
       "      <td>3.4</td>\n",
       "      <td>A perfect gift for all occasions, be it your m...</td>\n",
       "    </tr>\n",
       "    <tr>\n",
       "      <th>4</th>\n",
       "      <td>Cereal Flip Lid Container/Storage Jar - Assort...</td>\n",
       "      <td>Cleaning &amp; Household</td>\n",
       "      <td>Bins &amp; Bathroom Ware</td>\n",
       "      <td>Nakoda</td>\n",
       "      <td>149.0</td>\n",
       "      <td>176.0</td>\n",
       "      <td>Laundry, Storage Baskets</td>\n",
       "      <td>3.7</td>\n",
       "      <td>Multipurpose container with an attractive desi...</td>\n",
       "    </tr>\n",
       "    <tr>\n",
       "      <th>5</th>\n",
       "      <td>Creme Soft Soap - For Hands &amp; Body</td>\n",
       "      <td>Beauty &amp; Hygiene</td>\n",
       "      <td>Bath &amp; Hand Wash</td>\n",
       "      <td>Nivea</td>\n",
       "      <td>162.0</td>\n",
       "      <td>162.0</td>\n",
       "      <td>Bathing Bars &amp; Soaps</td>\n",
       "      <td>4.4</td>\n",
       "      <td>Nivea Creme Soft Soap gives your skin the best...</td>\n",
       "    </tr>\n",
       "  </tbody>\n",
       "</table>\n",
       "</div>"
      ],
      "text/plain": [
       "                                                 product  \\\n",
       "index                                                      \n",
       "1                 Garlic Oil - Vegetarian Capsule 500 mg   \n",
       "2                                  Water Bottle - Orange   \n",
       "3                         Brass Angle Deep - Plain, No.2   \n",
       "4      Cereal Flip Lid Container/Storage Jar - Assort...   \n",
       "5                     Creme Soft Soap - For Hands & Body   \n",
       "\n",
       "                     category           sub_category              brand  \\\n",
       "index                                                                     \n",
       "1            Beauty & Hygiene              Hair Care  Sri Sri Ayurveda    \n",
       "2      Kitchen, Garden & Pets  Storage & Accessories         Mastercook   \n",
       "3        Cleaning & Household            Pooja Needs                Trm   \n",
       "4        Cleaning & Household   Bins & Bathroom Ware             Nakoda   \n",
       "5            Beauty & Hygiene       Bath & Hand Wash              Nivea   \n",
       "\n",
       "       sale_price  market_price                      type  rating  \\\n",
       "index                                                               \n",
       "1           220.0         220.0          Hair Oil & Serum     4.1   \n",
       "2           180.0         180.0    Water & Fridge Bottles     2.3   \n",
       "3           119.0         250.0           Lamp & Lamp Oil     3.4   \n",
       "4           149.0         176.0  Laundry, Storage Baskets     3.7   \n",
       "5           162.0         162.0      Bathing Bars & Soaps     4.4   \n",
       "\n",
       "                                             description  \n",
       "index                                                     \n",
       "1      This Product contains Garlic Oil that is known...  \n",
       "2      Each product is microwave safe (without lid), ...  \n",
       "3      A perfect gift for all occasions, be it your m...  \n",
       "4      Multipurpose container with an attractive desi...  \n",
       "5      Nivea Creme Soft Soap gives your skin the best...  "
      ]
     },
     "execution_count": 8,
     "metadata": {},
     "output_type": "execute_result"
    }
   ],
   "source": [
    "df.head()"
   ]
  },
  {
   "cell_type": "markdown",
   "metadata": {},
   "source": [
    "### Geeting Idea of Nulls"
   ]
  },
  {
   "cell_type": "code",
   "execution_count": 9,
   "metadata": {},
   "outputs": [
    {
     "data": {
      "text/plain": [
       "<AxesSubplot:ylabel='index'>"
      ]
     },
     "execution_count": 9,
     "metadata": {},
     "output_type": "execute_result"
    },
    {
     "data": {
      "image/png": "[encoded data removed]",
      "text/plain": [
       "<Figure size 900x600 with 1 Axes>"
      ]
     },
     "metadata": {
      "needs_background": "light"
     },
     "output_type": "display_data"
    }
   ],
   "source": [
    "#plotting on a heat map to get an idea about the null data's which are present\n",
    "plt.figure(figsize=(6,4), dpi=150)\n",
    "sns.heatmap(df.isnull(), cbar=False)"
   ]
  },
  {
   "cell_type": "code",
   "execution_count": 10,
   "metadata": {},
   "outputs": [],
   "source": [
    "#calculating the percentage of missing values and visualizing the data\n",
    "percentage_missing = df.isnull().sum() * 100 / len(df)\n",
    "missing_values_df = pd.DataFrame({'columns_name': df.columns,\n",
    "                                   'percentage_missing': percentage_missing})"
   ]
  },
  {
   "cell_type": "code",
   "execution_count": 11,
   "metadata": {},
   "outputs": [
    {
     "data": {
      "text/html": [
       "<div>\n",
       "<style scoped>\n",
       "    .dataframe tbody tr th:only-of-type {\n",
       "        vertical-align: middle;\n",
       "    }\n",
       "\n",
       "    .dataframe tbody tr th {\n",
       "        vertical-align: top;\n",
       "    }\n",
       "\n",
       "    .dataframe thead th {\n",
       "        text-align: right;\n",
       "    }\n",
       "</style>\n",
       "<table border=\"1\" class=\"dataframe\">\n",
       "  <thead>\n",
       "    <tr style=\"text-align: right;\">\n",
       "      <th></th>\n",
       "      <th>columns_name</th>\n",
       "      <th>percentage_missing</th>\n",
       "    </tr>\n",
       "  </thead>\n",
       "  <tbody>\n",
       "    <tr>\n",
       "      <th>product</th>\n",
       "      <td>product</td>\n",
       "      <td>0.003629</td>\n",
       "    </tr>\n",
       "    <tr>\n",
       "      <th>category</th>\n",
       "      <td>category</td>\n",
       "      <td>0.000000</td>\n",
       "    </tr>\n",
       "    <tr>\n",
       "      <th>sub_category</th>\n",
       "      <td>sub_category</td>\n",
       "      <td>0.000000</td>\n",
       "    </tr>\n",
       "    <tr>\n",
       "      <th>brand</th>\n",
       "      <td>brand</td>\n",
       "      <td>0.003629</td>\n",
       "    </tr>\n",
       "    <tr>\n",
       "      <th>sale_price</th>\n",
       "      <td>sale_price</td>\n",
       "      <td>0.000000</td>\n",
       "    </tr>\n",
       "    <tr>\n",
       "      <th>market_price</th>\n",
       "      <td>market_price</td>\n",
       "      <td>0.000000</td>\n",
       "    </tr>\n",
       "    <tr>\n",
       "      <th>type</th>\n",
       "      <td>type</td>\n",
       "      <td>0.000000</td>\n",
       "    </tr>\n",
       "    <tr>\n",
       "      <th>rating</th>\n",
       "      <td>rating</td>\n",
       "      <td>31.304663</td>\n",
       "    </tr>\n",
       "    <tr>\n",
       "      <th>description</th>\n",
       "      <td>description</td>\n",
       "      <td>0.417347</td>\n",
       "    </tr>\n",
       "  </tbody>\n",
       "</table>\n",
       "</div>"
      ],
      "text/plain": [
       "              columns_name  percentage_missing\n",
       "product            product            0.003629\n",
       "category          category            0.000000\n",
       "sub_category  sub_category            0.000000\n",
       "brand                brand            0.003629\n",
       "sale_price      sale_price            0.000000\n",
       "market_price  market_price            0.000000\n",
       "type                  type            0.000000\n",
       "rating              rating           31.304663\n",
       "description    description            0.417347"
      ]
     },
     "execution_count": 11,
     "metadata": {},
     "output_type": "execute_result"
    }
   ],
   "source": [
    "missing_values_df"
   ]
  },
  {
   "cell_type": "markdown",
   "metadata": {},
   "source": [
    "#### Okay, there seems to be a lot of null values in the ratings section, as it is quite obvious that not all people who purchase will leave a rating of that product."
   ]
  },
  {
   "cell_type": "code",
   "execution_count": 12,
   "metadata": {},
   "outputs": [
    {
     "name": "stdout",
     "output_type": "stream",
     "text": [
      "Beauty & Hygiene\n",
      "Kitchen, Garden & Pets\n",
      "Cleaning & Household\n",
      "Gourmet & World Food\n",
      "Foodgrains, Oil & Masala\n",
      "Snacks & Branded Foods\n",
      "Beverages\n",
      "Bakery, Cakes & Dairy\n",
      "Baby Care\n",
      "Fruits & Vegetables\n",
      "Eggs, Meat & Fish\n"
     ]
    }
   ],
   "source": [
    "#Having a look at the unique product category in category column\n",
    "for elem in df['category'].unique():\n",
    "    print(elem)"
   ]
  },
  {
   "cell_type": "code",
   "execution_count": 13,
   "metadata": {},
   "outputs": [
    {
     "name": "stdout",
     "output_type": "stream",
     "text": [
      "Hair Care\n",
      "Storage & Accessories\n",
      "Pooja Needs\n",
      "Bins & Bathroom Ware\n",
      "Bath & Hand Wash\n",
      "All Purpose Cleaners\n",
      "Skin Care\n",
      "Mops, Brushes & Scrubs\n",
      "Cooking & Baking Needs\n",
      "Chocolates & Biscuits\n",
      "Fresheners & Repellents\n",
      "Snacks, Dry Fruits, Nuts\n",
      "Dairy & Cheese\n",
      "Pasta, Soup & Noodles\n",
      "Dry Fruits\n",
      "Drinks & Beverages\n",
      "Kitchen Accessories\n",
      "Flask & Casserole\n",
      "Breakfast Cereals\n",
      "Frozen Veggies & Snacks\n",
      "Fruit Juices & Drinks\n",
      "Cookies, Rusk & Khari\n",
      "Fragrances & Deos\n",
      "Tea\n",
      "Masalas & Spices\n",
      "Men's Grooming\n",
      "Chocolates & Candies\n",
      "Steel Utensils\n",
      "Tinned & Processed Food\n",
      "Organic Staples\n",
      "Sauces, Spreads & Dips\n",
      "Pickles & Chutney\n",
      "Ready To Cook & Eat\n",
      "Baby Bath & Hygiene\n",
      "Stationery\n",
      "Pet Food & Accessories\n",
      "Biscuits & Cookies\n",
      "Oral Care\n",
      "Snacks & Namkeen\n",
      "Detergents & Dishwash\n",
      "Crockery & Cutlery\n",
      "Cuts & Sprouts\n",
      "Health & Medicine\n",
      "Cookware & Non Stick\n",
      "Dairy\n",
      "Feminine Hygiene\n",
      "Diapers & Wipes\n",
      "Edible Oils & Ghee\n",
      "Baby Food & Formula\n",
      "Fresh Fruits\n",
      "Fresh Vegetables\n",
      "Herbs & Seasonings\n",
      "Breads & Buns\n",
      "Oils & Vinegar\n",
      "Feeding & Nursing\n",
      "Energy & Soft Drinks\n",
      "Appliances & Electricals\n",
      "Salt, Sugar & Jaggery\n",
      "Gourmet Breads\n",
      "Organic Fruits & Vegetables\n",
      "Indian Mithai\n",
      "Fish & Seafood\n",
      "Sausages, Bacon & Salami\n",
      "Disposables, Garbage Bag\n",
      "Dals & Pulses\n",
      "Noodle, Pasta, Vermicelli\n",
      "Rice & Rice Products\n",
      "Cakes & Pastries\n",
      "Spreads, Sauces, Ketchup\n",
      "Cereals & Breakfast\n",
      "Party & Festive Needs\n",
      "Eggs\n",
      "Health Drink, Supplement\n",
      "Non Dairy\n",
      "Bakeware\n",
      "Exotic Fruits & Veggies\n",
      "Baby Accessories\n",
      "Coffee\n",
      "Makeup\n",
      "Atta, Flours & Sooji\n",
      "Car & Shoe Care\n",
      "Mutton & Lamb\n",
      "Gardening\n",
      "Ice Creams & Desserts\n",
      "Bakery Snacks\n",
      "Water\n",
      "Mothers & Maternity\n",
      "Marinades\n",
      "Pork & Other Meats\n",
      "Flower Bouquets, Bunches\n"
     ]
    }
   ],
   "source": [
    "#Having a look at the unique sub_category category in sub_category column\n",
    "for elem in df['sub_category'].unique():\n",
    "    print(elem)"
   ]
  },
  {
   "cell_type": "code",
   "execution_count": 14,
   "metadata": {},
   "outputs": [
    {
     "data": {
      "text/plain": [
       "{'All Purpose Cleaners': 475,\n",
       " 'Appliances & Electricals': 138,\n",
       " 'Atta, Flours & Sooji': 152,\n",
       " 'Baby Accessories': 37,\n",
       " 'Baby Bath & Hygiene': 206,\n",
       " 'Baby Food & Formula': 48,\n",
       " 'Bakery Snacks': 39,\n",
       " 'Bakeware': 48,\n",
       " 'Bath & Hand Wash': 996,\n",
       " 'Bins & Bathroom Ware': 392,\n",
       " 'Biscuits & Cookies': 305,\n",
       " 'Breads & Buns': 48,\n",
       " 'Breakfast Cereals': 254,\n",
       " 'Cakes & Pastries': 125,\n",
       " 'Car & Shoe Care': 48,\n",
       " 'Cereals & Breakfast': 204,\n",
       " 'Chocolates & Biscuits': 609,\n",
       " 'Chocolates & Candies': 274,\n",
       " 'Coffee': 90,\n",
       " 'Cookies, Rusk & Khari': 153,\n",
       " 'Cooking & Baking Needs': 693,\n",
       " 'Cookware & Non Stick': 354,\n",
       " 'Crockery & Cutlery': 890,\n",
       " 'Cuts & Sprouts': 96,\n",
       " 'Dairy': 385,\n",
       " 'Dairy & Cheese': 253,\n",
       " 'Dals & Pulses': 192,\n",
       " 'Detergents & Dishwash': 261,\n",
       " 'Diapers & Wipes': 247,\n",
       " 'Disposables, Garbage Bag': 165,\n",
       " 'Drinks & Beverages': 736,\n",
       " 'Dry Fruits': 203,\n",
       " 'Edible Oils & Ghee': 248,\n",
       " 'Eggs': 34,\n",
       " 'Energy & Soft Drinks': 111,\n",
       " 'Exotic Fruits & Veggies': 70,\n",
       " 'Feeding & Nursing': 48,\n",
       " 'Feminine Hygiene': 285,\n",
       " 'Fish & Seafood': 132,\n",
       " 'Flask & Casserole': 48,\n",
       " 'Flower Bouquets, Bunches': 8,\n",
       " 'Fragrances & Deos': 1000,\n",
       " 'Fresh Fruits': 124,\n",
       " 'Fresh Vegetables': 168,\n",
       " 'Fresheners & Repellents': 276,\n",
       " 'Frozen Veggies & Snacks': 183,\n",
       " 'Fruit Juices & Drinks': 233,\n",
       " 'Gardening': 48,\n",
       " 'Gourmet Breads': 35,\n",
       " 'Hair Care': 1028,\n",
       " 'Health & Medicine': 1133,\n",
       " 'Health Drink, Supplement': 100,\n",
       " 'Herbs & Seasonings': 24,\n",
       " 'Ice Creams & Desserts': 48,\n",
       " 'Indian Mithai': 64,\n",
       " 'Kitchen Accessories': 330,\n",
       " 'Makeup': 48,\n",
       " 'Marinades': 1,\n",
       " 'Masalas & Spices': 889,\n",
       " \"Men's Grooming\": 805,\n",
       " 'Mops, Brushes & Scrubs': 348,\n",
       " 'Mothers & Maternity': 31,\n",
       " 'Mutton & Lamb': 20,\n",
       " 'Non Dairy': 32,\n",
       " 'Noodle, Pasta, Vermicelli': 122,\n",
       " 'Oils & Vinegar': 239,\n",
       " 'Oral Care': 271,\n",
       " 'Organic Fruits & Vegetables': 68,\n",
       " 'Organic Staples': 656,\n",
       " 'Party & Festive Needs': 48,\n",
       " 'Pasta, Soup & Noodles': 251,\n",
       " 'Pet Food & Accessories': 356,\n",
       " 'Pickles & Chutney': 162,\n",
       " 'Pooja Needs': 252,\n",
       " 'Pork & Other Meats': 5,\n",
       " 'Ready To Cook & Eat': 643,\n",
       " 'Rice & Rice Products': 215,\n",
       " 'Salt, Sugar & Jaggery': 137,\n",
       " 'Sauces, Spreads & Dips': 667,\n",
       " 'Sausages, Bacon & Salami': 159,\n",
       " 'Skin Care': 2294,\n",
       " 'Snacks & Namkeen': 500,\n",
       " 'Snacks, Dry Fruits, Nuts': 840,\n",
       " 'Spreads, Sauces, Ketchup': 305,\n",
       " 'Stationery': 410,\n",
       " 'Steel Utensils': 353,\n",
       " 'Storage & Accessories': 1015,\n",
       " 'Tea': 334,\n",
       " 'Tinned & Processed Food': 168,\n",
       " 'Water': 17}"
      ]
     },
     "execution_count": 14,
     "metadata": {},
     "output_type": "execute_result"
    }
   ],
   "source": [
    "#fetching the data of how many unique sub_category items are there in the df\n",
    "unique, sub_cat_count = np.unique(df['sub_category'], return_counts=True)\n",
    "dict(zip(unique, sub_cat_count))"
   ]
  },
  {
   "cell_type": "code",
   "execution_count": 15,
   "metadata": {},
   "outputs": [
    {
     "name": "stdout",
     "output_type": "stream",
     "text": [
      "Hair Oil & Serum\n",
      "Water & Fridge Bottles\n",
      "Lamp & Lamp Oil\n",
      "Laundry, Storage Baskets\n",
      "Bathing Bars & Soaps\n",
      "Disinfectant Spray & Cleaners\n",
      "Face Care\n",
      "Hand Wash & Sanitizers\n",
      "Shampoo & Conditioner\n",
      "Utensil Scrub-Pad, Glove\n",
      "Flours & Pre-Mixes\n",
      "Luxury Chocolates, Gifts\n",
      "Floor & Other Cleaners\n",
      "Mosquito Repellent\n",
      "Soap Cases & Dispensers\n",
      "Aromatherapy\n",
      "Roasted Seeds & Nuts\n",
      "Tofu\n",
      "Tools & Accessories\n",
      "Imported Noodles\n",
      "Other Dry Fruits\n",
      "Gourmet Tea & Tea Bags\n",
      "Choppers & Graters\n",
      "Casserole\n",
      "Granola & Cereal Bars\n",
      "Frozen Veg Snacks\n",
      "Lip Care\n",
      "Juices\n",
      "Bakery Biscuits, Cookies\n",
      "Men's Deodorants\n",
      "Green Tea\n",
      "Containers Sets\n",
      "Whole Spices\n",
      "Blended Masalas\n",
      "Chocolates\n",
      "Eau De Toilette\n",
      "Cookies, Biscotti, Wafer\n",
      "Steel Lunch Boxes\n",
      "Olive, Jalapeno, Gherkin\n",
      "Organic Rice, Other Rice\n",
      "Shaving Care\n",
      "Imported Cleaners\n",
      "Thai & Asian Sauces\n",
      "Chutney Powder\n",
      "Cooking Pastes\n",
      "Gourmet Juices & Drinks\n",
      "Face & Body\n",
      "Beans & Pulses\n",
      "Papads, Ready To Fry\n",
      "Hair & Scalp Treatment\n",
      "Baby Health\n",
      "Notebooks, Files, Folders\n",
      "Kitchen Tools & Other Accessories\n",
      "Pet Meals & Treats\n",
      "Chocolate, Peanut Spread\n",
      "Marie, Health, Digestive\n",
      "Electric Toothbrush\n",
      "Pet Collars & Leashes\n",
      "Toothpaste\n",
      "Dry Fruits & Berries\n",
      "Toothbrush\n",
      "Chips & Corn Snacks\n",
      "Imported Soups\n",
      "Organic Dals & Pulses\n",
      "Gourmet Ice Cream\n",
      "Dishwash Bars & Powders\n",
      "Glassware\n",
      "International Cheese\n",
      "Agarbatti, Incense Sticks\n",
      "Cut & Peeled Veggies\n",
      "Ayurveda\n",
      "Tawa & Sauce Pan\n",
      "Flavoured, Soya Milk\n",
      "Namkeen & Savoury Snacks\n",
      "Steel Storage Containers\n",
      "Hair Removal\n",
      "Diapers\n",
      "Other Edible Oils\n",
      "Quinoa & Grains\n",
      "Shower Gel & Body Wash\n",
      "Umbrella\n",
      "Kadai & Fry Pans\n",
      "Baby Food\n",
      "Body Care\n",
      "Organic Masalas & Spices\n",
      "Gourmet Popcorn\n",
      "Organic Fruits\n",
      "Leaf & Dust Tea\n",
      "Bowls & Vessels\n",
      "Rusks\n",
      "Air Freshener\n",
      "Cabbage & Cauliflower\n",
      "Lunch Boxes\n",
      "Sunflower, Rice Bran Oil\n",
      "Supplements & Proteins\n",
      "Cream Biscuits & Wafers\n",
      "Banana, Sapota & Papaya\n",
      "Lemon, Ginger & Garlic\n",
      "Baking, Cake Decorations\n",
      "International Chocolates\n",
      "Breakfast & Snack Mixes\n",
      "Plates & Tumblers\n",
      "Organic Edible Oil, Ghee\n",
      "Lime & Mango Pickle\n",
      "Powdered Spices\n",
      "Milk, White & Sandwich\n",
      "Curry Paste, Coconut Milk\n",
      "Flakes\n",
      "Flavoured & Other Oils\n",
      "Healthy, Baked Snacks\n",
      "Pure, Pomace Olive Oil\n",
      "Hair Color\n",
      "Bibs & Napkins\n",
      "Exam Pads & Pencil Box\n",
      "Sports & Energy Drinks\n",
      "Everyday Medicine\n",
      "CFL & Led Bulbs\n",
      "Indian & Exotic Herbs\n",
      "Sugar & Jaggery\n",
      "Kitchen, Glass & Drain\n",
      "Heat & Eat Ready Meals\n",
      "Pressure Cookers\n",
      "Gourmet Bread\n",
      "Mops, Wipers\n",
      "Organic Vegetables\n",
      "Chikki & Gajjak\n",
      "Attar\n",
      "Body Sprays & Mists\n",
      "Home Baking\n",
      "Strainer, Ladle, Spatula\n",
      "Balsamic & Cider Vinegar\n",
      "Baby Wipes\n",
      "Exotic Fruits\n",
      "Dustbins\n",
      "Cut Fruit, Tender Coconut\n",
      "Talcum Powder\n",
      "Herbs, Seasonings & Rubs\n",
      "Paneer, Tofu & Cream\n",
      "Frozen Fish & Seafood\n",
      "Nachos & Chips\n",
      "Exotic Sugar & Salt\n",
      "Salted Biscuits\n",
      "Vacuum Flask\n",
      "Cotton & Ear Buds\n",
      "Marshmallow, Candy, Jelly\n",
      "Chicken Sausages\n",
      "Health Drinks\n",
      "Frozen Vegetables\n",
      "Eau De Parfum\n",
      "Paper Napkin, Tissue Box\n",
      "Toor, Channa & Moong Dal\n",
      "Sippers & Bottles\n",
      "Instant Noodles\n",
      "Cereals & Millets\n",
      "Mustard & Cheese Sauces\n",
      "Pork & Ham\n",
      "Basmati Rice\n",
      "Cook And Serve\n",
      "Nursing Tools\n",
      "Cold Drinks\n",
      "Coffee & Pre-Mix\n",
      "Dinner Sets\n",
      "Detergent Bars\n",
      "Tea Bags\n",
      "Oats & Porridge\n",
      "Exotic Vegetables\n",
      "Muffins & Cup Cakes\n",
      "Copper Utensils\n",
      "Salad Dressings\n",
      "Hummus, Cheese, Salsa Dip\n",
      "Cereal & Granola Bars\n",
      "Organic Baby Food\n",
      "Chilli & Soya Sauce\n",
      "Other Veg Pickle\n",
      "Muesli\n",
      "Tomatoes & Vegetables\n",
      "Crackers & Digestive\n",
      "Kids Cereal\n",
      "Toilet Cleaners\n",
      "Dust Cloth & Wipes\n",
      "Tampons & Menstrual Cups\n",
      "Ghee & Vanaspati\n",
      "Cups, Mugs & Tumblers\n",
      "Other Pooja Needs\n",
      "Choco & Nut Spread\n",
      "Beans, Brinjals & Okra\n",
      "Caps, Balloons & Candles\n",
      "Pen, Pencils\n",
      "Plates & Bowls\n",
      "Organic & Cold Press Oil\n",
      "Face Masks & Safety Gears\n",
      "Root Vegetables\n",
      "Dessert Mixes\n",
      "Toilet & Other Brushes\n",
      "Organic Flours\n",
      "Talc\n",
      "Toffee, Candy & Lollypop\n",
      "Bath Stool, Basin & Sets\n",
      "Bathing Accessories\n",
      "Colours & Crayons\n",
      "Jams, Marmalade, Spreads\n",
      "Sexual Wellness\n",
      "Farm Eggs\n",
      "Kids (5+Yrs)\n",
      "Milk & Soya Drinks\n",
      "Honey & Maple Syrup\n",
      "Hair Care & Styling\n",
      "Pastas & Spaghetti\n",
      "Baking Tools & Brushes\n",
      "Baby Powder\n",
      "Other Plastic Ware\n",
      "Cutlery, Spoon & Fork\n",
      "Toilet Paper\n",
      "Exotic & Flavoured Tea\n",
      "Mouthwash\n",
      "Cocktail Mixes\n",
      "Intimate Wash & Care\n",
      "Baby Oil & Shampoo\n",
      "Yogurt & Shrikhand\n",
      "Organic Sugar, Jaggery\n",
      "Fresh Sweets\n",
      "Tomato Ketchup & Sauces\n",
      "Hangers, Clips & Rope\n",
      "Bath & Shower\n",
      "Herbs & Seasoning\n",
      "Aerated, Still, Sparkling\n",
      "Electronic Accessories\n",
      "Wall Hooks & Hangers\n",
      "Women's Deodorants\n",
      "Eye Care\n",
      "Honey\n",
      "Scissor, Glue & Tape\n",
      "Tinned, Packed Sweets\n",
      "Lighters\n",
      "Garbage Bags\n",
      "Soothers & Teethers\n",
      "Mints & Chewing Gum\n",
      "Ground Coffee\n",
      "Buckets & Mugs\n",
      "Perfume\n",
      "Urad & Other Dals\n",
      "Eyes\n",
      "Fabric Pre, Post Wash\n",
      "Cup Noodles\n",
      "Pet Feeding Support\n",
      "Pet Cleaning & Grooming\n",
      "Non Veg Pickle\n",
      "Frozen Non-Veg Snacks\n",
      "Organic Dry Fruits\n",
      "Sanitary Napkins\n",
      "Dips & Dressings\n",
      "Bath Salts & Oils\n",
      "Mayonnaise\n",
      "Gingelly Oil\n",
      "Rice & Other Flours\n",
      "Infant Formula\n",
      "Shoe Polish\n",
      "Cookies\n",
      "Fresh Fish\n",
      "Soups\n",
      "Frozen Mutton\n",
      "Syrups & Concentrates\n",
      "Apples & Pomegranate\n",
      "Detergent Powder, Liquid\n",
      "Butter & Cream\n",
      "Baby Bath\n",
      "Kitchen Rolls\n",
      "Boiled & Steam Rice\n",
      "Extra Virgin Olive Oil\n",
      "Muesli & Rice Cakes\n",
      "Canned Seafood\n",
      "Vinegar\n",
      "Cheese\n",
      "Gardening Tools\n",
      "Racks & Holders\n",
      "Mukhwas\n",
      "Seasonal Accessories\n",
      "Hair Styling\n",
      "Pooja Thali & Bells\n",
      "Ice Creams\n",
      "Adult Diapers\n",
      "Knives & Peelers\n",
      "Baby Gift Sets\n",
      "Cooking Chocolate, Cocoa\n",
      "Jasmine & Sushi Rice\n",
      "Buns, Pavs & Pizza Base\n",
      "Gas Stove\n",
      "Poha, Sabudana & Murmura\n",
      "Men & Women\n",
      "Raw Rice\n",
      "Pasta & Macaroni\n",
      "Fertilizers & Pesticides\n",
      "Brooms & Dust Pans\n",
      "Camphor & Wicks\n",
      "Baby Oral Care\n",
      "Frozen Indian Breads\n",
      "Dishwash Liquids & Pastes\n",
      "Battery & Electrical\n",
      "Vermicelli\n",
      "Gift Sets\n",
      "Mangoes\n",
      "Combos & Gift Sets\n",
      "Baby Creams & Lotions\n",
      "Pots, Planters & Trays\n",
      "Bakeware Accessories\n",
      "Bread Sticks & Lavash\n",
      "Instant Coffee\n",
      "Curd\n",
      "Tea Cakes & Slice Cakes\n",
      "Spring Water\n",
      "Salts\n",
      "Sugarfree Sweeteners\n",
      "Imported Oats & Porridge\n",
      "Cashews\n",
      "Fresh Salads & Sprouts\n",
      "Trail & Cocktail Mixes\n",
      "Groundnut Oil\n",
      "Leafy Vegetables\n",
      "Premium Cookies\n",
      "Pastries & Brownies\n",
      "Soda & Cocktail Mix\n",
      "Condensed, Powdered Milk\n",
      "Moustache & Beard Care\n",
      "Sooji, Maida & Besan\n",
      "Fresh Mutton\n",
      "Blended Cooking Oils\n",
      "Insect Repellent\n",
      "Car Freshener\n",
      "Olive & Canola Oils\n",
      "Floss & Tongue Cleaner\n",
      "Car Polish & Cleaners\n",
      "Cookware Sets\n",
      "Face\n",
      "Hakka Noodles\n",
      "Panty Liners\n",
      "Wet Wipe, Pocket Tissues\n",
      "Candles & Match Box\n",
      "Cream & Cheese Spreads\n",
      "Eau De Cologne\n",
      "Unsweetened, Cold Press\n",
      "Flavoured & Greek Yogurt\n",
      "Children (2-5 Yrs)\n",
      "Khari & Cream Rolls\n",
      "Disposable Cups & Plates\n",
      "Meats & Sausages\n",
      "Raisins\n",
      "Jam, Conserve, Marmalade\n",
      "Gift Wraps & Bags\n",
      "Other Baby Accessories\n",
      "Decorations\n",
      "Panini, Focaccia & Pita\n",
      "Instant Pasta\n",
      "Baby Laundry\n",
      "Games & Calculators\n",
      "Gourmet Flakes\n",
      "Birthday & Party Cakes\n",
      "Pet Toys\n",
      "Atta Whole Wheat\n",
      "Croissants, Bagels\n",
      "Antiseptics & Bandages\n",
      "Aluminium Foil, Clingwrap\n",
      "Body Scrubs & Exfoliants\n",
      "Marinated Meat\n",
      "Kiwi, Melon, Citrus Fruit\n",
      "Organic Millet & Flours\n",
      "Maternity Health Supplements\n",
      "Brown, Wheat & Multigrain\n",
      "Potato, Onion & Tomato\n",
      "Glucose Powder, Tablets\n",
      "Milk\n",
      "Fresh & Frozen Pork\n",
      "Wine & Rice Vinegar\n",
      "Soya & Mustard Oils\n",
      "Recipe Packs\n",
      "Butter & Margarine\n",
      "Glucose & Milk Biscuits\n",
      "Gourd, Pumpkin, Drumstick\n",
      "Other Flowers\n",
      "Baby Dishes & Utensils\n",
      "Makeup Accessories\n",
      "Non Alcoholic Drinks\n",
      "Dairy Free (Vegan)\n",
      "Books & Magazines\n",
      "Packaged Water\n",
      "Canned Food\n",
      "Almonds\n",
      "Fruits & Pulps\n",
      "Other Eggs\n",
      "Cloth Dryer & Iron Table\n",
      "Seeds & Sapling\n",
      "Bakeware Moulds, Cutters\n",
      "Buttermilk & Lassi\n",
      "Dry Shampoo & Conditioner\n",
      "Icetea, Non Aerated Drink\n",
      "Country Eggs\n",
      "Maternity Personal Care\n",
      "Dry Fish\n",
      "Cucumber & Capsicum\n",
      "Bagels & Baguette\n",
      "Slimming Products\n",
      "Diabetic Drinks\n",
      "Nails\n",
      "Seasonal Fruits\n",
      "Regular & White Vinegar\n",
      "Gift Boxes\n",
      "Non-Alcoholic Beer, Wine\n",
      "Health Supplements\n",
      "Protein Eggs\n",
      "Fish & Tuna\n",
      "Metal, Furniture Cleaner\n",
      "Organic Eggs\n",
      "Cheese & Garlic Bread\n",
      "Baby Toys\n",
      "Marigold\n",
      "Erasers & Sharpeners\n",
      "Baby Buds\n",
      "Combs, Brushes, Clippers\n",
      "Baking Accessories\n",
      "Nappies & Rash Cream\n",
      "Canola & Rapeseed Oil\n",
      "Lips\n",
      "Roses\n",
      "Holi Colours & Pichkari\n",
      "Prawns & Shrimps\n",
      "Specialty\n",
      "Turkey & Duck\n"
     ]
    }
   ],
   "source": [
    "#having a look at how elements are percent at type column in the data set\n",
    "for elem in df['type'].unique():\n",
    "    print(elem)"
   ]
  },
  {
   "cell_type": "markdown",
   "metadata": {},
   "source": [
    "## Data processing\n",
    "So, to solve the problem with null values, we can take the mean of each category and assign it to the null values in the data frame. For example, if there are any null values in the snakes category, we will fill them with the snakes mean value.\n",
    "\n",
    "This is quite tricky with these types of data sets, as we are attempting to normalize the data for the missing values in the rating column."
   ]
  },
  {
   "cell_type": "code",
   "execution_count": 16,
   "metadata": {},
   "outputs": [],
   "source": [
    "#taking care of the null values\n",
    "#we are trying to fill the null value column by grouping the df by category and fetching the rating to\n",
    "#transform the existing column with the mean rating for each category\n",
    "df['rating'].fillna(df.groupby('category')['rating'].transform('mean'), inplace=True)"
   ]
  },
  {
   "cell_type": "code",
   "execution_count": 17,
   "metadata": {},
   "outputs": [
    {
     "data": {
      "text/plain": [
       "<AxesSubplot:ylabel='index'>"
      ]
     },
     "execution_count": 17,
     "metadata": {},
     "output_type": "execute_result"
    },
    {
     "data": {
      "image/png": "[encoded data removed]",
      "text/plain": [
       "<Figure size 900x600 with 1 Axes>"
      ]
     },
     "metadata": {
      "needs_background": "light"
     },
     "output_type": "display_data"
    }
   ],
   "source": [
    "#checking the heat map to see if the above normalization works\n",
    "plt.figure(figsize=(6,4), dpi=150)\n",
    "sns.heatmap(df.isnull(), cbar=False)"
   ]
  },
  {
   "cell_type": "markdown",
   "metadata": {},
   "source": [
    "Okay, it seems like we have normalized the data to a larger extent, let's quickly have a look at the numbers"
   ]
  },
  {
   "cell_type": "code",
   "execution_count": 18,
   "metadata": {},
   "outputs": [],
   "source": [
    "#calculating the percentage of missing values after normalization\n",
    "percentage_missing = df.isnull().sum() / len(df) * 100\n",
    "missing_values_df = pd.DataFrame({'columns': df.columns, 'null_percentage': percentage_missing})"
   ]
  },
  {
   "cell_type": "code",
   "execution_count": 19,
   "metadata": {},
   "outputs": [
    {
     "data": {
      "text/html": [
       "<div>\n",
       "<style scoped>\n",
       "    .dataframe tbody tr th:only-of-type {\n",
       "        vertical-align: middle;\n",
       "    }\n",
       "\n",
       "    .dataframe tbody tr th {\n",
       "        vertical-align: top;\n",
       "    }\n",
       "\n",
       "    .dataframe thead th {\n",
       "        text-align: right;\n",
       "    }\n",
       "</style>\n",
       "<table border=\"1\" class=\"dataframe\">\n",
       "  <thead>\n",
       "    <tr style=\"text-align: right;\">\n",
       "      <th></th>\n",
       "      <th>columns</th>\n",
       "      <th>null_percentage</th>\n",
       "    </tr>\n",
       "  </thead>\n",
       "  <tbody>\n",
       "    <tr>\n",
       "      <th>product</th>\n",
       "      <td>product</td>\n",
       "      <td>0.003629</td>\n",
       "    </tr>\n",
       "    <tr>\n",
       "      <th>category</th>\n",
       "      <td>category</td>\n",
       "      <td>0.000000</td>\n",
       "    </tr>\n",
       "    <tr>\n",
       "      <th>sub_category</th>\n",
       "      <td>sub_category</td>\n",
       "      <td>0.000000</td>\n",
       "    </tr>\n",
       "    <tr>\n",
       "      <th>brand</th>\n",
       "      <td>brand</td>\n",
       "      <td>0.003629</td>\n",
       "    </tr>\n",
       "    <tr>\n",
       "      <th>sale_price</th>\n",
       "      <td>sale_price</td>\n",
       "      <td>0.000000</td>\n",
       "    </tr>\n",
       "    <tr>\n",
       "      <th>market_price</th>\n",
       "      <td>market_price</td>\n",
       "      <td>0.000000</td>\n",
       "    </tr>\n",
       "    <tr>\n",
       "      <th>type</th>\n",
       "      <td>type</td>\n",
       "      <td>0.000000</td>\n",
       "    </tr>\n",
       "    <tr>\n",
       "      <th>rating</th>\n",
       "      <td>rating</td>\n",
       "      <td>3.291599</td>\n",
       "    </tr>\n",
       "    <tr>\n",
       "      <th>description</th>\n",
       "      <td>description</td>\n",
       "      <td>0.417347</td>\n",
       "    </tr>\n",
       "  </tbody>\n",
       "</table>\n",
       "</div>"
      ],
      "text/plain": [
       "                   columns  null_percentage\n",
       "product            product         0.003629\n",
       "category          category         0.000000\n",
       "sub_category  sub_category         0.000000\n",
       "brand                brand         0.003629\n",
       "sale_price      sale_price         0.000000\n",
       "market_price  market_price         0.000000\n",
       "type                  type         0.000000\n",
       "rating              rating         3.291599\n",
       "description    description         0.417347"
      ]
     },
     "execution_count": 19,
     "metadata": {},
     "output_type": "execute_result"
    }
   ],
   "source": [
    "missing_values_df"
   ]
  },
  {
   "cell_type": "markdown",
   "metadata": {},
   "source": [
    "##### We have brought down the null values from 31.30% to 3.29% with normalization!"
   ]
  },
  {
   "cell_type": "code",
   "execution_count": 20,
   "metadata": {},
   "outputs": [
    {
     "data": {
      "text/html": [
       "<div>\n",
       "<style scoped>\n",
       "    .dataframe tbody tr th:only-of-type {\n",
       "        vertical-align: middle;\n",
       "    }\n",
       "\n",
       "    .dataframe tbody tr th {\n",
       "        vertical-align: top;\n",
       "    }\n",
       "\n",
       "    .dataframe thead th {\n",
       "        text-align: right;\n",
       "    }\n",
       "</style>\n",
       "<table border=\"1\" class=\"dataframe\">\n",
       "  <thead>\n",
       "    <tr style=\"text-align: right;\">\n",
       "      <th></th>\n",
       "      <th>product</th>\n",
       "      <th>category</th>\n",
       "      <th>sub_category</th>\n",
       "      <th>brand</th>\n",
       "      <th>sale_price</th>\n",
       "      <th>market_price</th>\n",
       "      <th>type</th>\n",
       "      <th>rating</th>\n",
       "      <th>description</th>\n",
       "    </tr>\n",
       "    <tr>\n",
       "      <th>index</th>\n",
       "      <th></th>\n",
       "      <th></th>\n",
       "      <th></th>\n",
       "      <th></th>\n",
       "      <th></th>\n",
       "      <th></th>\n",
       "      <th></th>\n",
       "      <th></th>\n",
       "      <th></th>\n",
       "    </tr>\n",
       "  </thead>\n",
       "  <tbody>\n",
       "    <tr>\n",
       "      <th>1</th>\n",
       "      <td>Garlic Oil - Vegetarian Capsule 500 mg</td>\n",
       "      <td>Beauty &amp; Hygiene</td>\n",
       "      <td>Hair Care</td>\n",
       "      <td>Sri Sri Ayurveda</td>\n",
       "      <td>220.0</td>\n",
       "      <td>220.0</td>\n",
       "      <td>Hair Oil &amp; Serum</td>\n",
       "      <td>4.1</td>\n",
       "      <td>This Product contains Garlic Oil that is known...</td>\n",
       "    </tr>\n",
       "    <tr>\n",
       "      <th>2</th>\n",
       "      <td>Water Bottle - Orange</td>\n",
       "      <td>Kitchen, Garden &amp; Pets</td>\n",
       "      <td>Storage &amp; Accessories</td>\n",
       "      <td>Mastercook</td>\n",
       "      <td>180.0</td>\n",
       "      <td>180.0</td>\n",
       "      <td>Water &amp; Fridge Bottles</td>\n",
       "      <td>2.3</td>\n",
       "      <td>Each product is microwave safe (without lid), ...</td>\n",
       "    </tr>\n",
       "    <tr>\n",
       "      <th>3</th>\n",
       "      <td>Brass Angle Deep - Plain, No.2</td>\n",
       "      <td>Cleaning &amp; Household</td>\n",
       "      <td>Pooja Needs</td>\n",
       "      <td>Trm</td>\n",
       "      <td>119.0</td>\n",
       "      <td>250.0</td>\n",
       "      <td>Lamp &amp; Lamp Oil</td>\n",
       "      <td>3.4</td>\n",
       "      <td>A perfect gift for all occasions, be it your m...</td>\n",
       "    </tr>\n",
       "    <tr>\n",
       "      <th>4</th>\n",
       "      <td>Cereal Flip Lid Container/Storage Jar - Assort...</td>\n",
       "      <td>Cleaning &amp; Household</td>\n",
       "      <td>Bins &amp; Bathroom Ware</td>\n",
       "      <td>Nakoda</td>\n",
       "      <td>149.0</td>\n",
       "      <td>176.0</td>\n",
       "      <td>Laundry, Storage Baskets</td>\n",
       "      <td>3.7</td>\n",
       "      <td>Multipurpose container with an attractive desi...</td>\n",
       "    </tr>\n",
       "    <tr>\n",
       "      <th>5</th>\n",
       "      <td>Creme Soft Soap - For Hands &amp; Body</td>\n",
       "      <td>Beauty &amp; Hygiene</td>\n",
       "      <td>Bath &amp; Hand Wash</td>\n",
       "      <td>Nivea</td>\n",
       "      <td>162.0</td>\n",
       "      <td>162.0</td>\n",
       "      <td>Bathing Bars &amp; Soaps</td>\n",
       "      <td>4.4</td>\n",
       "      <td>Nivea Creme Soft Soap gives your skin the best...</td>\n",
       "    </tr>\n",
       "  </tbody>\n",
       "</table>\n",
       "</div>"
      ],
      "text/plain": [
       "                                                 product  \\\n",
       "index                                                      \n",
       "1                 Garlic Oil - Vegetarian Capsule 500 mg   \n",
       "2                                  Water Bottle - Orange   \n",
       "3                         Brass Angle Deep - Plain, No.2   \n",
       "4      Cereal Flip Lid Container/Storage Jar - Assort...   \n",
       "5                     Creme Soft Soap - For Hands & Body   \n",
       "\n",
       "                     category           sub_category              brand  \\\n",
       "index                                                                     \n",
       "1            Beauty & Hygiene              Hair Care  Sri Sri Ayurveda    \n",
       "2      Kitchen, Garden & Pets  Storage & Accessories         Mastercook   \n",
       "3        Cleaning & Household            Pooja Needs                Trm   \n",
       "4        Cleaning & Household   Bins & Bathroom Ware             Nakoda   \n",
       "5            Beauty & Hygiene       Bath & Hand Wash              Nivea   \n",
       "\n",
       "       sale_price  market_price                      type  rating  \\\n",
       "index                                                               \n",
       "1           220.0         220.0          Hair Oil & Serum     4.1   \n",
       "2           180.0         180.0    Water & Fridge Bottles     2.3   \n",
       "3           119.0         250.0           Lamp & Lamp Oil     3.4   \n",
       "4           149.0         176.0  Laundry, Storage Baskets     3.7   \n",
       "5           162.0         162.0      Bathing Bars & Soaps     4.4   \n",
       "\n",
       "                                             description  \n",
       "index                                                     \n",
       "1      This Product contains Garlic Oil that is known...  \n",
       "2      Each product is microwave safe (without lid), ...  \n",
       "3      A perfect gift for all occasions, be it your m...  \n",
       "4      Multipurpose container with an attractive desi...  \n",
       "5      Nivea Creme Soft Soap gives your skin the best...  "
      ]
     },
     "execution_count": 20,
     "metadata": {},
     "output_type": "execute_result"
    }
   ],
   "source": [
    "df.head()"
   ]
  },
  {
   "cell_type": "code",
   "execution_count": 21,
   "metadata": {},
   "outputs": [],
   "source": [
    "df = df.reset_index()"
   ]
  },
  {
   "cell_type": "code",
   "execution_count": 22,
   "metadata": {},
   "outputs": [
    {
     "data": {
      "text/html": [
       "<div>\n",
       "<style scoped>\n",
       "    .dataframe tbody tr th:only-of-type {\n",
       "        vertical-align: middle;\n",
       "    }\n",
       "\n",
       "    .dataframe tbody tr th {\n",
       "        vertical-align: top;\n",
       "    }\n",
       "\n",
       "    .dataframe thead th {\n",
       "        text-align: right;\n",
       "    }\n",
       "</style>\n",
       "<table border=\"1\" class=\"dataframe\">\n",
       "  <thead>\n",
       "    <tr style=\"text-align: right;\">\n",
       "      <th></th>\n",
       "      <th>index</th>\n",
       "      <th>product</th>\n",
       "      <th>category</th>\n",
       "      <th>sub_category</th>\n",
       "      <th>brand</th>\n",
       "      <th>sale_price</th>\n",
       "      <th>market_price</th>\n",
       "      <th>type</th>\n",
       "      <th>rating</th>\n",
       "      <th>description</th>\n",
       "    </tr>\n",
       "  </thead>\n",
       "  <tbody>\n",
       "    <tr>\n",
       "      <th>0</th>\n",
       "      <td>1</td>\n",
       "      <td>Garlic Oil - Vegetarian Capsule 500 mg</td>\n",
       "      <td>Beauty &amp; Hygiene</td>\n",
       "      <td>Hair Care</td>\n",
       "      <td>Sri Sri Ayurveda</td>\n",
       "      <td>220.0</td>\n",
       "      <td>220.0</td>\n",
       "      <td>Hair Oil &amp; Serum</td>\n",
       "      <td>4.1</td>\n",
       "      <td>This Product contains Garlic Oil that is known...</td>\n",
       "    </tr>\n",
       "    <tr>\n",
       "      <th>1</th>\n",
       "      <td>2</td>\n",
       "      <td>Water Bottle - Orange</td>\n",
       "      <td>Kitchen, Garden &amp; Pets</td>\n",
       "      <td>Storage &amp; Accessories</td>\n",
       "      <td>Mastercook</td>\n",
       "      <td>180.0</td>\n",
       "      <td>180.0</td>\n",
       "      <td>Water &amp; Fridge Bottles</td>\n",
       "      <td>2.3</td>\n",
       "      <td>Each product is microwave safe (without lid), ...</td>\n",
       "    </tr>\n",
       "    <tr>\n",
       "      <th>2</th>\n",
       "      <td>3</td>\n",
       "      <td>Brass Angle Deep - Plain, No.2</td>\n",
       "      <td>Cleaning &amp; Household</td>\n",
       "      <td>Pooja Needs</td>\n",
       "      <td>Trm</td>\n",
       "      <td>119.0</td>\n",
       "      <td>250.0</td>\n",
       "      <td>Lamp &amp; Lamp Oil</td>\n",
       "      <td>3.4</td>\n",
       "      <td>A perfect gift for all occasions, be it your m...</td>\n",
       "    </tr>\n",
       "    <tr>\n",
       "      <th>3</th>\n",
       "      <td>4</td>\n",
       "      <td>Cereal Flip Lid Container/Storage Jar - Assort...</td>\n",
       "      <td>Cleaning &amp; Household</td>\n",
       "      <td>Bins &amp; Bathroom Ware</td>\n",
       "      <td>Nakoda</td>\n",
       "      <td>149.0</td>\n",
       "      <td>176.0</td>\n",
       "      <td>Laundry, Storage Baskets</td>\n",
       "      <td>3.7</td>\n",
       "      <td>Multipurpose container with an attractive desi...</td>\n",
       "    </tr>\n",
       "    <tr>\n",
       "      <th>4</th>\n",
       "      <td>5</td>\n",
       "      <td>Creme Soft Soap - For Hands &amp; Body</td>\n",
       "      <td>Beauty &amp; Hygiene</td>\n",
       "      <td>Bath &amp; Hand Wash</td>\n",
       "      <td>Nivea</td>\n",
       "      <td>162.0</td>\n",
       "      <td>162.0</td>\n",
       "      <td>Bathing Bars &amp; Soaps</td>\n",
       "      <td>4.4</td>\n",
       "      <td>Nivea Creme Soft Soap gives your skin the best...</td>\n",
       "    </tr>\n",
       "  </tbody>\n",
       "</table>\n",
       "</div>"
      ],
      "text/plain": [
       "   index                                            product  \\\n",
       "0      1             Garlic Oil - Vegetarian Capsule 500 mg   \n",
       "1      2                              Water Bottle - Orange   \n",
       "2      3                     Brass Angle Deep - Plain, No.2   \n",
       "3      4  Cereal Flip Lid Container/Storage Jar - Assort...   \n",
       "4      5                 Creme Soft Soap - For Hands & Body   \n",
       "\n",
       "                 category           sub_category              brand  \\\n",
       "0        Beauty & Hygiene              Hair Care  Sri Sri Ayurveda    \n",
       "1  Kitchen, Garden & Pets  Storage & Accessories         Mastercook   \n",
       "2    Cleaning & Household            Pooja Needs                Trm   \n",
       "3    Cleaning & Household   Bins & Bathroom Ware             Nakoda   \n",
       "4        Beauty & Hygiene       Bath & Hand Wash              Nivea   \n",
       "\n",
       "   sale_price  market_price                      type  rating  \\\n",
       "0       220.0         220.0          Hair Oil & Serum     4.1   \n",
       "1       180.0         180.0    Water & Fridge Bottles     2.3   \n",
       "2       119.0         250.0           Lamp & Lamp Oil     3.4   \n",
       "3       149.0         176.0  Laundry, Storage Baskets     3.7   \n",
       "4       162.0         162.0      Bathing Bars & Soaps     4.4   \n",
       "\n",
       "                                         description  \n",
       "0  This Product contains Garlic Oil that is known...  \n",
       "1  Each product is microwave safe (without lid), ...  \n",
       "2  A perfect gift for all occasions, be it your m...  \n",
       "3  Multipurpose container with an attractive desi...  \n",
       "4  Nivea Creme Soft Soap gives your skin the best...  "
      ]
     },
     "execution_count": 22,
     "metadata": {},
     "output_type": "execute_result"
    }
   ],
   "source": [
    "df.head()"
   ]
  },
  {
   "cell_type": "code",
   "execution_count": 23,
   "metadata": {},
   "outputs": [
    {
     "data": {
      "text/html": [
       "<div>\n",
       "<style scoped>\n",
       "    .dataframe tbody tr th:only-of-type {\n",
       "        vertical-align: middle;\n",
       "    }\n",
       "\n",
       "    .dataframe tbody tr th {\n",
       "        vertical-align: top;\n",
       "    }\n",
       "\n",
       "    .dataframe thead th {\n",
       "        text-align: right;\n",
       "    }\n",
       "</style>\n",
       "<table border=\"1\" class=\"dataframe\">\n",
       "  <thead>\n",
       "    <tr style=\"text-align: right;\">\n",
       "      <th></th>\n",
       "      <th>category</th>\n",
       "      <th>rating</th>\n",
       "      <th>sale_price</th>\n",
       "      <th>market_price</th>\n",
       "    </tr>\n",
       "  </thead>\n",
       "  <tbody>\n",
       "    <tr>\n",
       "      <th>0</th>\n",
       "      <td>Baby Care</td>\n",
       "      <td>4.02</td>\n",
       "      <td>534.95</td>\n",
       "      <td>596.75</td>\n",
       "    </tr>\n",
       "    <tr>\n",
       "      <th>1</th>\n",
       "      <td>Bakery, Cakes &amp; Dairy</td>\n",
       "      <td>3.91</td>\n",
       "      <td>142.80</td>\n",
       "      <td>157.88</td>\n",
       "    </tr>\n",
       "    <tr>\n",
       "      <th>2</th>\n",
       "      <td>Beauty &amp; Hygiene</td>\n",
       "      <td>3.93</td>\n",
       "      <td>418.68</td>\n",
       "      <td>493.54</td>\n",
       "    </tr>\n",
       "    <tr>\n",
       "      <th>3</th>\n",
       "      <td>Beverages</td>\n",
       "      <td>4.08</td>\n",
       "      <td>239.76</td>\n",
       "      <td>272.23</td>\n",
       "    </tr>\n",
       "    <tr>\n",
       "      <th>4</th>\n",
       "      <td>Cleaning &amp; Household</td>\n",
       "      <td>3.96</td>\n",
       "      <td>226.17</td>\n",
       "      <td>262.11</td>\n",
       "    </tr>\n",
       "    <tr>\n",
       "      <th>5</th>\n",
       "      <td>Eggs, Meat &amp; Fish</td>\n",
       "      <td>NaN</td>\n",
       "      <td>288.90</td>\n",
       "      <td>325.84</td>\n",
       "    </tr>\n",
       "    <tr>\n",
       "      <th>6</th>\n",
       "      <td>Foodgrains, Oil &amp; Masala</td>\n",
       "      <td>4.06</td>\n",
       "      <td>193.17</td>\n",
       "      <td>230.13</td>\n",
       "    </tr>\n",
       "    <tr>\n",
       "      <th>7</th>\n",
       "      <td>Fruits &amp; Vegetables</td>\n",
       "      <td>NaN</td>\n",
       "      <td>50.89</td>\n",
       "      <td>64.43</td>\n",
       "    </tr>\n",
       "    <tr>\n",
       "      <th>8</th>\n",
       "      <td>Gourmet &amp; World Food</td>\n",
       "      <td>3.98</td>\n",
       "      <td>319.85</td>\n",
       "      <td>358.42</td>\n",
       "    </tr>\n",
       "    <tr>\n",
       "      <th>9</th>\n",
       "      <td>Kitchen, Garden &amp; Pets</td>\n",
       "      <td>3.73</td>\n",
       "      <td>507.52</td>\n",
       "      <td>659.66</td>\n",
       "    </tr>\n",
       "    <tr>\n",
       "      <th>10</th>\n",
       "      <td>Snacks &amp; Branded Foods</td>\n",
       "      <td>3.98</td>\n",
       "      <td>129.59</td>\n",
       "      <td>140.78</td>\n",
       "    </tr>\n",
       "  </tbody>\n",
       "</table>\n",
       "</div>"
      ],
      "text/plain": [
       "                    category  rating  sale_price  market_price\n",
       "0                  Baby Care    4.02      534.95        596.75\n",
       "1      Bakery, Cakes & Dairy    3.91      142.80        157.88\n",
       "2           Beauty & Hygiene    3.93      418.68        493.54\n",
       "3                  Beverages    4.08      239.76        272.23\n",
       "4       Cleaning & Household    3.96      226.17        262.11\n",
       "5          Eggs, Meat & Fish     NaN      288.90        325.84\n",
       "6   Foodgrains, Oil & Masala    4.06      193.17        230.13\n",
       "7        Fruits & Vegetables     NaN       50.89         64.43\n",
       "8       Gourmet & World Food    3.98      319.85        358.42\n",
       "9     Kitchen, Garden & Pets    3.73      507.52        659.66\n",
       "10    Snacks & Branded Foods    3.98      129.59        140.78"
      ]
     },
     "execution_count": 23,
     "metadata": {},
     "output_type": "execute_result"
    }
   ],
   "source": [
    "# AVG Rating, Sale Price & market_price Per catagory\n",
    "#And sorting based on ratings\n",
    "AVG_DF = df[['category','rating','sale_price','market_price']].groupby('category').mean()\n",
    "AVG_DF = np.round(AVG_DF, 2)\n",
    "AVG_DF.reset_index()"
   ]
  },
  {
   "cell_type": "code",
   "execution_count": 24,
   "metadata": {},
   "outputs": [
    {
     "data": {
      "text/html": [
       "<div>\n",
       "<style scoped>\n",
       "    .dataframe tbody tr th:only-of-type {\n",
       "        vertical-align: middle;\n",
       "    }\n",
       "\n",
       "    .dataframe tbody tr th {\n",
       "        vertical-align: top;\n",
       "    }\n",
       "\n",
       "    .dataframe thead th {\n",
       "        text-align: right;\n",
       "    }\n",
       "</style>\n",
       "<table border=\"1\" class=\"dataframe\">\n",
       "  <thead>\n",
       "    <tr style=\"text-align: right;\">\n",
       "      <th></th>\n",
       "      <th>category</th>\n",
       "      <th>rating</th>\n",
       "      <th>sale_price</th>\n",
       "      <th>market_price</th>\n",
       "    </tr>\n",
       "  </thead>\n",
       "  <tbody>\n",
       "    <tr>\n",
       "      <th>0</th>\n",
       "      <td>Beverages</td>\n",
       "      <td>4.08</td>\n",
       "      <td>239.76</td>\n",
       "      <td>272.23</td>\n",
       "    </tr>\n",
       "    <tr>\n",
       "      <th>1</th>\n",
       "      <td>Foodgrains, Oil &amp; Masala</td>\n",
       "      <td>4.06</td>\n",
       "      <td>193.17</td>\n",
       "      <td>230.13</td>\n",
       "    </tr>\n",
       "    <tr>\n",
       "      <th>2</th>\n",
       "      <td>Baby Care</td>\n",
       "      <td>4.02</td>\n",
       "      <td>534.95</td>\n",
       "      <td>596.75</td>\n",
       "    </tr>\n",
       "    <tr>\n",
       "      <th>3</th>\n",
       "      <td>Gourmet &amp; World Food</td>\n",
       "      <td>3.98</td>\n",
       "      <td>319.85</td>\n",
       "      <td>358.42</td>\n",
       "    </tr>\n",
       "    <tr>\n",
       "      <th>4</th>\n",
       "      <td>Snacks &amp; Branded Foods</td>\n",
       "      <td>3.98</td>\n",
       "      <td>129.59</td>\n",
       "      <td>140.78</td>\n",
       "    </tr>\n",
       "    <tr>\n",
       "      <th>5</th>\n",
       "      <td>Cleaning &amp; Household</td>\n",
       "      <td>3.96</td>\n",
       "      <td>226.17</td>\n",
       "      <td>262.11</td>\n",
       "    </tr>\n",
       "    <tr>\n",
       "      <th>6</th>\n",
       "      <td>Beauty &amp; Hygiene</td>\n",
       "      <td>3.93</td>\n",
       "      <td>418.68</td>\n",
       "      <td>493.54</td>\n",
       "    </tr>\n",
       "    <tr>\n",
       "      <th>7</th>\n",
       "      <td>Bakery, Cakes &amp; Dairy</td>\n",
       "      <td>3.91</td>\n",
       "      <td>142.80</td>\n",
       "      <td>157.88</td>\n",
       "    </tr>\n",
       "    <tr>\n",
       "      <th>8</th>\n",
       "      <td>Kitchen, Garden &amp; Pets</td>\n",
       "      <td>3.73</td>\n",
       "      <td>507.52</td>\n",
       "      <td>659.66</td>\n",
       "    </tr>\n",
       "    <tr>\n",
       "      <th>9</th>\n",
       "      <td>Eggs, Meat &amp; Fish</td>\n",
       "      <td>NaN</td>\n",
       "      <td>288.90</td>\n",
       "      <td>325.84</td>\n",
       "    </tr>\n",
       "    <tr>\n",
       "      <th>10</th>\n",
       "      <td>Fruits &amp; Vegetables</td>\n",
       "      <td>NaN</td>\n",
       "      <td>50.89</td>\n",
       "      <td>64.43</td>\n",
       "    </tr>\n",
       "  </tbody>\n",
       "</table>\n",
       "</div>"
      ],
      "text/plain": [
       "                    category  rating  sale_price  market_price\n",
       "0                  Beverages    4.08      239.76        272.23\n",
       "1   Foodgrains, Oil & Masala    4.06      193.17        230.13\n",
       "2                  Baby Care    4.02      534.95        596.75\n",
       "3       Gourmet & World Food    3.98      319.85        358.42\n",
       "4     Snacks & Branded Foods    3.98      129.59        140.78\n",
       "5       Cleaning & Household    3.96      226.17        262.11\n",
       "6           Beauty & Hygiene    3.93      418.68        493.54\n",
       "7      Bakery, Cakes & Dairy    3.91      142.80        157.88\n",
       "8     Kitchen, Garden & Pets    3.73      507.52        659.66\n",
       "9          Eggs, Meat & Fish     NaN      288.90        325.84\n",
       "10       Fruits & Vegetables     NaN       50.89         64.43"
      ]
     },
     "execution_count": 24,
     "metadata": {},
     "output_type": "execute_result"
    }
   ],
   "source": [
    "#have noticed a 2 Nan values in the rating column of Eggs, Meat & Fish & Fruits & Vegetables\n",
    "#so we will ignore that for viz\n",
    "AVG_DF = AVG_DF.sort_values('rating', ascending=False)\n",
    "AVG_DF = AVG_DF.reset_index()\n",
    "AVG_DF"
   ]
  },
  {
   "cell_type": "code",
   "execution_count": 25,
   "metadata": {},
   "outputs": [
    {
     "data": {
      "text/html": [
       "<div>\n",
       "<style scoped>\n",
       "    .dataframe tbody tr th:only-of-type {\n",
       "        vertical-align: middle;\n",
       "    }\n",
       "\n",
       "    .dataframe tbody tr th {\n",
       "        vertical-align: top;\n",
       "    }\n",
       "\n",
       "    .dataframe thead th {\n",
       "        text-align: right;\n",
       "    }\n",
       "</style>\n",
       "<table border=\"1\" class=\"dataframe\">\n",
       "  <thead>\n",
       "    <tr style=\"text-align: right;\">\n",
       "      <th></th>\n",
       "      <th>category</th>\n",
       "      <th>rating</th>\n",
       "      <th>sale_price</th>\n",
       "      <th>market_price</th>\n",
       "    </tr>\n",
       "  </thead>\n",
       "  <tbody>\n",
       "    <tr>\n",
       "      <th>0</th>\n",
       "      <td>Beverages</td>\n",
       "      <td>4.08</td>\n",
       "      <td>239.76</td>\n",
       "      <td>272.23</td>\n",
       "    </tr>\n",
       "    <tr>\n",
       "      <th>1</th>\n",
       "      <td>Foodgrains, Oil &amp; Masala</td>\n",
       "      <td>4.06</td>\n",
       "      <td>193.17</td>\n",
       "      <td>230.13</td>\n",
       "    </tr>\n",
       "    <tr>\n",
       "      <th>2</th>\n",
       "      <td>Baby Care</td>\n",
       "      <td>4.02</td>\n",
       "      <td>534.95</td>\n",
       "      <td>596.75</td>\n",
       "    </tr>\n",
       "    <tr>\n",
       "      <th>3</th>\n",
       "      <td>Gourmet &amp; World Food</td>\n",
       "      <td>3.98</td>\n",
       "      <td>319.85</td>\n",
       "      <td>358.42</td>\n",
       "    </tr>\n",
       "    <tr>\n",
       "      <th>4</th>\n",
       "      <td>Snacks &amp; Branded Foods</td>\n",
       "      <td>3.98</td>\n",
       "      <td>129.59</td>\n",
       "      <td>140.78</td>\n",
       "    </tr>\n",
       "    <tr>\n",
       "      <th>5</th>\n",
       "      <td>Cleaning &amp; Household</td>\n",
       "      <td>3.96</td>\n",
       "      <td>226.17</td>\n",
       "      <td>262.11</td>\n",
       "    </tr>\n",
       "    <tr>\n",
       "      <th>6</th>\n",
       "      <td>Beauty &amp; Hygiene</td>\n",
       "      <td>3.93</td>\n",
       "      <td>418.68</td>\n",
       "      <td>493.54</td>\n",
       "    </tr>\n",
       "    <tr>\n",
       "      <th>7</th>\n",
       "      <td>Bakery, Cakes &amp; Dairy</td>\n",
       "      <td>3.91</td>\n",
       "      <td>142.80</td>\n",
       "      <td>157.88</td>\n",
       "    </tr>\n",
       "    <tr>\n",
       "      <th>8</th>\n",
       "      <td>Kitchen, Garden &amp; Pets</td>\n",
       "      <td>3.73</td>\n",
       "      <td>507.52</td>\n",
       "      <td>659.66</td>\n",
       "    </tr>\n",
       "  </tbody>\n",
       "</table>\n",
       "</div>"
      ],
      "text/plain": [
       "                   category  rating  sale_price  market_price\n",
       "0                 Beverages    4.08      239.76        272.23\n",
       "1  Foodgrains, Oil & Masala    4.06      193.17        230.13\n",
       "2                 Baby Care    4.02      534.95        596.75\n",
       "3      Gourmet & World Food    3.98      319.85        358.42\n",
       "4    Snacks & Branded Foods    3.98      129.59        140.78\n",
       "5      Cleaning & Household    3.96      226.17        262.11\n",
       "6          Beauty & Hygiene    3.93      418.68        493.54\n",
       "7     Bakery, Cakes & Dairy    3.91      142.80        157.88\n",
       "8    Kitchen, Garden & Pets    3.73      507.52        659.66"
      ]
     },
     "execution_count": 25,
     "metadata": {},
     "output_type": "execute_result"
    }
   ],
   "source": [
    "AVG_DF = AVG_DF.head(9)\n",
    "AVG_DF"
   ]
  },
  {
   "cell_type": "markdown",
   "metadata": {},
   "source": [
    "# Few EDA's"
   ]
  },
  {
   "cell_type": "code",
   "execution_count": 26,
   "metadata": {},
   "outputs": [
    {
     "data": {
      "text/html": [
       "<div>\n",
       "<style scoped>\n",
       "    .dataframe tbody tr th:only-of-type {\n",
       "        vertical-align: middle;\n",
       "    }\n",
       "\n",
       "    .dataframe tbody tr th {\n",
       "        vertical-align: top;\n",
       "    }\n",
       "\n",
       "    .dataframe thead th {\n",
       "        text-align: right;\n",
       "    }\n",
       "</style>\n",
       "<table border=\"1\" class=\"dataframe\">\n",
       "  <thead>\n",
       "    <tr style=\"text-align: right;\">\n",
       "      <th></th>\n",
       "      <th>index</th>\n",
       "      <th>product</th>\n",
       "      <th>category</th>\n",
       "      <th>sub_category</th>\n",
       "      <th>brand</th>\n",
       "      <th>sale_price</th>\n",
       "      <th>market_price</th>\n",
       "      <th>type</th>\n",
       "      <th>rating</th>\n",
       "      <th>description</th>\n",
       "    </tr>\n",
       "  </thead>\n",
       "  <tbody>\n",
       "    <tr>\n",
       "      <th>0</th>\n",
       "      <td>1</td>\n",
       "      <td>Garlic Oil - Vegetarian Capsule 500 mg</td>\n",
       "      <td>Beauty &amp; Hygiene</td>\n",
       "      <td>Hair Care</td>\n",
       "      <td>Sri Sri Ayurveda</td>\n",
       "      <td>220.0</td>\n",
       "      <td>220.0</td>\n",
       "      <td>Hair Oil &amp; Serum</td>\n",
       "      <td>4.1</td>\n",
       "      <td>This Product contains Garlic Oil that is known...</td>\n",
       "    </tr>\n",
       "    <tr>\n",
       "      <th>1</th>\n",
       "      <td>2</td>\n",
       "      <td>Water Bottle - Orange</td>\n",
       "      <td>Kitchen, Garden &amp; Pets</td>\n",
       "      <td>Storage &amp; Accessories</td>\n",
       "      <td>Mastercook</td>\n",
       "      <td>180.0</td>\n",
       "      <td>180.0</td>\n",
       "      <td>Water &amp; Fridge Bottles</td>\n",
       "      <td>2.3</td>\n",
       "      <td>Each product is microwave safe (without lid), ...</td>\n",
       "    </tr>\n",
       "    <tr>\n",
       "      <th>2</th>\n",
       "      <td>3</td>\n",
       "      <td>Brass Angle Deep - Plain, No.2</td>\n",
       "      <td>Cleaning &amp; Household</td>\n",
       "      <td>Pooja Needs</td>\n",
       "      <td>Trm</td>\n",
       "      <td>119.0</td>\n",
       "      <td>250.0</td>\n",
       "      <td>Lamp &amp; Lamp Oil</td>\n",
       "      <td>3.4</td>\n",
       "      <td>A perfect gift for all occasions, be it your m...</td>\n",
       "    </tr>\n",
       "    <tr>\n",
       "      <th>3</th>\n",
       "      <td>4</td>\n",
       "      <td>Cereal Flip Lid Container/Storage Jar - Assort...</td>\n",
       "      <td>Cleaning &amp; Household</td>\n",
       "      <td>Bins &amp; Bathroom Ware</td>\n",
       "      <td>Nakoda</td>\n",
       "      <td>149.0</td>\n",
       "      <td>176.0</td>\n",
       "      <td>Laundry, Storage Baskets</td>\n",
       "      <td>3.7</td>\n",
       "      <td>Multipurpose container with an attractive desi...</td>\n",
       "    </tr>\n",
       "    <tr>\n",
       "      <th>4</th>\n",
       "      <td>5</td>\n",
       "      <td>Creme Soft Soap - For Hands &amp; Body</td>\n",
       "      <td>Beauty &amp; Hygiene</td>\n",
       "      <td>Bath &amp; Hand Wash</td>\n",
       "      <td>Nivea</td>\n",
       "      <td>162.0</td>\n",
       "      <td>162.0</td>\n",
       "      <td>Bathing Bars &amp; Soaps</td>\n",
       "      <td>4.4</td>\n",
       "      <td>Nivea Creme Soft Soap gives your skin the best...</td>\n",
       "    </tr>\n",
       "  </tbody>\n",
       "</table>\n",
       "</div>"
      ],
      "text/plain": [
       "   index                                            product  \\\n",
       "0      1             Garlic Oil - Vegetarian Capsule 500 mg   \n",
       "1      2                              Water Bottle - Orange   \n",
       "2      3                     Brass Angle Deep - Plain, No.2   \n",
       "3      4  Cereal Flip Lid Container/Storage Jar - Assort...   \n",
       "4      5                 Creme Soft Soap - For Hands & Body   \n",
       "\n",
       "                 category           sub_category              brand  \\\n",
       "0        Beauty & Hygiene              Hair Care  Sri Sri Ayurveda    \n",
       "1  Kitchen, Garden & Pets  Storage & Accessories         Mastercook   \n",
       "2    Cleaning & Household            Pooja Needs                Trm   \n",
       "3    Cleaning & Household   Bins & Bathroom Ware             Nakoda   \n",
       "4        Beauty & Hygiene       Bath & Hand Wash              Nivea   \n",
       "\n",
       "   sale_price  market_price                      type  rating  \\\n",
       "0       220.0         220.0          Hair Oil & Serum     4.1   \n",
       "1       180.0         180.0    Water & Fridge Bottles     2.3   \n",
       "2       119.0         250.0           Lamp & Lamp Oil     3.4   \n",
       "3       149.0         176.0  Laundry, Storage Baskets     3.7   \n",
       "4       162.0         162.0      Bathing Bars & Soaps     4.4   \n",
       "\n",
       "                                         description  \n",
       "0  This Product contains Garlic Oil that is known...  \n",
       "1  Each product is microwave safe (without lid), ...  \n",
       "2  A perfect gift for all occasions, be it your m...  \n",
       "3  Multipurpose container with an attractive desi...  \n",
       "4  Nivea Creme Soft Soap gives your skin the best...  "
      ]
     },
     "execution_count": 26,
     "metadata": {},
     "output_type": "execute_result"
    }
   ],
   "source": [
    "df.head()"
   ]
  },
  {
   "cell_type": "code",
   "execution_count": 27,
   "metadata": {},
   "outputs": [
    {
     "data": {
      "application/vnd.plotly.v1+json": {
       "config": {
        "plotlyServerURL": "https://plot.ly"
       },
       "data": [
        {
         "alignmentgroup": "True",
         "hovertemplate": "category=%{x}<br>rating=%{marker.color}<extra></extra>",
         "legendgroup": "",
         "marker": {
          "color": [
           4.08,
           4.06,
           4.02,
           3.98,
           3.98,
           3.96,
           3.93,
           3.91,
           3.73
          ],
          "coloraxis": "coloraxis",
          "pattern": {
           "shape": ""
          }
         },
         "name": "",
         "offsetgroup": "",
         "orientation": "v",
         "showlegend": false,
         "textposition": "auto",
         "type": "bar",
         "x": [
          "Beverages",
          "Foodgrains, Oil & Masala",
          "Baby Care",
          "Gourmet & World Food",
          "Snacks & Branded Foods",
          "Cleaning & Household",
          "Beauty & Hygiene",
          "Bakery, Cakes & Dairy",
          "Kitchen, Garden & Pets"
         ],
         "xaxis": "x",
         "y": [
          4.08,
          4.06,
          4.02,
          3.98,
          3.98,
          3.96,
          3.93,
          3.91,
          3.73
         ],
         "yaxis": "y"
        }
       ],
       "layout": {
        "barmode": "relative",
        "coloraxis": {
         "colorbar": {
          "title": {
           "text": "rating"
          }
         },
         "colorscale": [
          [
           0,
           "#0d0887"
          ],
          [
           0.1111111111111111,
           "#46039f"
          ],
          [
           0.2222222222222222,
           "#7201a8"
          ],
          [
           0.3333333333333333,
           "#9c179e"
          ],
          [
           0.4444444444444444,
           "#bd3786"
          ],
          [
           0.5555555555555556,
           "#d8576b"
          ],
          [
           0.6666666666666666,
           "#ed7953"
          ],
          [
           0.7777777777777778,
           "#fb9f3a"
          ],
          [
           0.8888888888888888,
           "#fdca26"
          ],
          [
           1,
           "#f0f921"
          ]
         ]
        },
        "height": 800,
        "legend": {
         "tracegroupgap": 0
        },
        "template": {
         "data": {
          "bar": [
           {
            "error_x": {
             "color": "#f2f5fa"
            },
            "error_y": {
             "color": "#f2f5fa"
            },
            "marker": {
             "line": {
              "color": "rgb(17,17,17)",
              "width": 0.5
             },
             "pattern": {
              "fillmode": "overlay",
              "size": 10,
              "solidity": 0.2
             }
            },
            "type": "bar"
           }
          ],
          "barpolar": [
           {
            "marker": {
             "line": {
              "color": "rgb(17,17,17)",
              "width": 0.5
             },
             "pattern": {
              "fillmode": "overlay",
              "size": 10,
              "solidity": 0.2
             }
            },
            "type": "barpolar"
           }
          ],
          "carpet": [
           {
            "aaxis": {
             "endlinecolor": "#A2B1C6",
             "gridcolor": "#506784",
             "linecolor": "#506784",
             "minorgridcolor": "#506784",
             "startlinecolor": "#A2B1C6"
            },
            "baxis": {
             "endlinecolor": "#A2B1C6",
             "gridcolor": "#506784",
             "linecolor": "#506784",
             "minorgridcolor": "#506784",
             "startlinecolor": "#A2B1C6"
            },
            "type": "carpet"
           }
          ],
          "choropleth": [
           {
            "colorbar": {
             "outlinewidth": 0,
             "ticks": ""
            },
            "type": "choropleth"
           }
          ],
          "contour": [
           {
            "colorbar": {
             "outlinewidth": 0,
             "ticks": ""
            },
            "colorscale": [
             [
              0,
              "#0d0887"
             ],
             [
              0.1111111111111111,
              "#46039f"
             ],
             [
              0.2222222222222222,
              "#7201a8"
             ],
             [
              0.3333333333333333,
              "#9c179e"
             ],
             [
              0.4444444444444444,
              "#bd3786"
             ],
             [
              0.5555555555555556,
              "#d8576b"
             ],
             [
              0.6666666666666666,
              "#ed7953"
             ],
             [
              0.7777777777777778,
              "#fb9f3a"
             ],
             [
              0.8888888888888888,
              "#fdca26"
             ],
             [
              1,
              "#f0f921"
             ]
            ],
            "type": "contour"
           }
          ],
          "contourcarpet": [
           {
            "colorbar": {
             "outlinewidth": 0,
             "ticks": ""
            },
            "type": "contourcarpet"
           }
          ],
          "heatmap": [
           {
            "colorbar": {
             "outlinewidth": 0,
             "ticks": ""
            },
            "colorscale": [
             [
              0,
              "#0d0887"
             ],
             [
              0.1111111111111111,
              "#46039f"
             ],
             [
              0.2222222222222222,
              "#7201a8"
             ],
             [
              0.3333333333333333,
              "#9c179e"
             ],
             [
              0.4444444444444444,
              "#bd3786"
             ],
             [
              0.5555555555555556,
              "#d8576b"
             ],
             [
              0.6666666666666666,
              "#ed7953"
             ],
             [
              0.7777777777777778,
              "#fb9f3a"
             ],
             [
              0.8888888888888888,
              "#fdca26"
             ],
             [
              1,
              "#f0f921"
             ]
            ],
            "type": "heatmap"
           }
          ],
          "heatmapgl": [
           {
            "colorbar": {
             "outlinewidth": 0,
             "ticks": ""
            },
            "colorscale": [
             [
              0,
              "#0d0887"
             ],
             [
              0.1111111111111111,
              "#46039f"
             ],
             [
              0.2222222222222222,
              "#7201a8"
             ],
             [
              0.3333333333333333,
              "#9c179e"
             ],
             [
              0.4444444444444444,
              "#bd3786"
             ],
             [
              0.5555555555555556,
              "#d8576b"
             ],
             [
              0.6666666666666666,
              "#ed7953"
             ],
             [
              0.7777777777777778,
              "#fb9f3a"
             ],
             [
              0.8888888888888888,
              "#fdca26"
             ],
             [
              1,
              "#f0f921"
             ]
            ],
            "type": "heatmapgl"
           }
          ],
          "histogram": [
           {
            "marker": {
             "pattern": {
              "fillmode": "overlay",
              "size": 10,
              "solidity": 0.2
             }
            },
            "type": "histogram"
           }
          ],
          "histogram2d": [
           {
            "colorbar": {
             "outlinewidth": 0,
             "ticks": ""
            },
            "colorscale": [
             [
              0,
              "#0d0887"
             ],
             [
              0.1111111111111111,
              "#46039f"
             ],
             [
              0.2222222222222222,
              "#7201a8"
             ],
             [
              0.3333333333333333,
              "#9c179e"
             ],
             [
              0.4444444444444444,
              "#bd3786"
             ],
             [
              0.5555555555555556,
              "#d8576b"
             ],
             [
              0.6666666666666666,
              "#ed7953"
             ],
             [
              0.7777777777777778,
              "#fb9f3a"
             ],
             [
              0.8888888888888888,
              "#fdca26"
             ],
             [
              1,
              "#f0f921"
             ]
            ],
            "type": "histogram2d"
           }
          ],
          "histogram2dcontour": [
           {
            "colorbar": {
             "outlinewidth": 0,
             "ticks": ""
            },
            "colorscale": [
             [
              0,
              "#0d0887"
             ],
             [
              0.1111111111111111,
              "#46039f"
             ],
             [
              0.2222222222222222,
              "#7201a8"
             ],
             [
              0.3333333333333333,
              "#9c179e"
             ],
             [
              0.4444444444444444,
              "#bd3786"
             ],
             [
              0.5555555555555556,
              "#d8576b"
             ],
             [
              0.6666666666666666,
              "#ed7953"
             ],
             [
              0.7777777777777778,
              "#fb9f3a"
             ],
             [
              0.8888888888888888,
              "#fdca26"
             ],
             [
              1,
              "#f0f921"
             ]
            ],
            "type": "histogram2dcontour"
           }
          ],
          "mesh3d": [
           {
            "colorbar": {
             "outlinewidth": 0,
             "ticks": ""
            },
            "type": "mesh3d"
           }
          ],
          "parcoords": [
           {
            "line": {
             "colorbar": {
              "outlinewidth": 0,
              "ticks": ""
             }
            },
            "type": "parcoords"
           }
          ],
          "pie": [
           {
            "automargin": true,
            "type": "pie"
           }
          ],
          "scatter": [
           {
            "marker": {
             "line": {
              "color": "#283442"
             }
            },
            "type": "scatter"
           }
          ],
          "scatter3d": [
           {
            "line": {
             "colorbar": {
              "outlinewidth": 0,
              "ticks": ""
             }
            },
            "marker": {
             "colorbar": {
              "outlinewidth": 0,
              "ticks": ""
             }
            },
            "type": "scatter3d"
           }
          ],
          "scattercarpet": [
           {
            "marker": {
             "colorbar": {
              "outlinewidth": 0,
              "ticks": ""
             }
            },
            "type": "scattercarpet"
           }
          ],
          "scattergeo": [
           {
            "marker": {
             "colorbar": {
              "outlinewidth": 0,
              "ticks": ""
             }
            },
            "type": "scattergeo"
           }
          ],
          "scattergl": [
           {
            "marker": {
             "line": {
              "color": "#283442"
             }
            },
            "type": "scattergl"
           }
          ],
          "scattermapbox": [
           {
            "marker": {
             "colorbar": {
              "outlinewidth": 0,
              "ticks": ""
             }
            },
            "type": "scattermapbox"
           }
          ],
          "scatterpolar": [
           {
            "marker": {
             "colorbar": {
              "outlinewidth": 0,
              "ticks": ""
             }
            },
            "type": "scatterpolar"
           }
          ],
          "scatterpolargl": [
           {
            "marker": {
             "colorbar": {
              "outlinewidth": 0,
              "ticks": ""
             }
            },
            "type": "scatterpolargl"
           }
          ],
          "scatterternary": [
           {
            "marker": {
             "colorbar": {
              "outlinewidth": 0,
              "ticks": ""
             }
            },
            "type": "scatterternary"
           }
          ],
          "surface": [
           {
            "colorbar": {
             "outlinewidth": 0,
             "ticks": ""
            },
            "colorscale": [
             [
              0,
              "#0d0887"
             ],
             [
              0.1111111111111111,
              "#46039f"
             ],
             [
              0.2222222222222222,
              "#7201a8"
             ],
             [
              0.3333333333333333,
              "#9c179e"
             ],
             [
              0.4444444444444444,
              "#bd3786"
             ],
             [
              0.5555555555555556,
              "#d8576b"
             ],
             [
              0.6666666666666666,
              "#ed7953"
             ],
             [
              0.7777777777777778,
              "#fb9f3a"
             ],
             [
              0.8888888888888888,
              "#fdca26"
             ],
             [
              1,
              "#f0f921"
             ]
            ],
            "type": "surface"
           }
          ],
          "table": [
           {
            "cells": {
             "fill": {
              "color": "#506784"
             },
             "line": {
              "color": "rgb(17,17,17)"
             }
            },
            "header": {
             "fill": {
              "color": "#2a3f5f"
             },
             "line": {
              "color": "rgb(17,17,17)"
             }
            },
            "type": "table"
           }
          ]
         },
         "layout": {
          "annotationdefaults": {
           "arrowcolor": "#f2f5fa",
           "arrowhead": 0,
           "arrowwidth": 1
          },
          "autotypenumbers": "strict",
          "coloraxis": {
           "colorbar": {
            "outlinewidth": 0,
            "ticks": ""
           }
          },
          "colorscale": {
           "diverging": [
            [
             0,
             "#8e0152"
            ],
            [
             0.1,
             "#c51b7d"
            ],
            [
             0.2,
             "#de77ae"
            ],
            [
             0.3,
             "#f1b6da"
            ],
            [
             0.4,
             "#fde0ef"
            ],
            [
             0.5,
             "#f7f7f7"
            ],
            [
             0.6,
             "#e6f5d0"
            ],
            [
             0.7,
             "#b8e186"
            ],
            [
             0.8,
             "#7fbc41"
            ],
            [
             0.9,
             "#4d9221"
            ],
            [
             1,
             "#276419"
            ]
           ],
           "sequential": [
            [
             0,
             "#0d0887"
            ],
            [
             0.1111111111111111,
             "#46039f"
            ],
            [
             0.2222222222222222,
             "#7201a8"
            ],
            [
             0.3333333333333333,
             "#9c179e"
            ],
            [
             0.4444444444444444,
             "#bd3786"
            ],
            [
             0.5555555555555556,
             "#d8576b"
            ],
            [
             0.6666666666666666,
             "#ed7953"
            ],
            [
             0.7777777777777778,
             "#fb9f3a"
            ],
            [
             0.8888888888888888,
             "#fdca26"
            ],
            [
             1,
             "#f0f921"
            ]
           ],
           "sequentialminus": [
            [
             0,
             "#0d0887"
            ],
            [
             0.1111111111111111,
             "#46039f"
            ],
            [
             0.2222222222222222,
             "#7201a8"
            ],
            [
             0.3333333333333333,
             "#9c179e"
            ],
            [
             0.4444444444444444,
             "#bd3786"
            ],
            [
             0.5555555555555556,
             "#d8576b"
            ],
            [
             0.6666666666666666,
             "#ed7953"
            ],
            [
             0.7777777777777778,
             "#fb9f3a"
            ],
            [
             0.8888888888888888,
             "#fdca26"
            ],
            [
             1,
             "#f0f921"
            ]
           ]
          },
          "colorway": [
           "#636efa",
           "#EF553B",
           "#00cc96",
           "#ab63fa",
           "#FFA15A",
           "#19d3f3",
           "#FF6692",
           "#B6E880",
           "#FF97FF",
           "#FECB52"
          ],
          "font": {
           "color": "#f2f5fa"
          },
          "geo": {
           "bgcolor": "rgb(17,17,17)",
           "lakecolor": "rgb(17,17,17)",
           "landcolor": "rgb(17,17,17)",
           "showlakes": true,
           "showland": true,
           "subunitcolor": "#506784"
          },
          "hoverlabel": {
           "align": "left"
          },
          "hovermode": "closest",
          "mapbox": {
           "style": "dark"
          },
          "paper_bgcolor": "rgb(17,17,17)",
          "plot_bgcolor": "rgb(17,17,17)",
          "polar": {
           "angularaxis": {
            "gridcolor": "#506784",
            "linecolor": "#506784",
            "ticks": ""
           },
           "bgcolor": "rgb(17,17,17)",
           "radialaxis": {
            "gridcolor": "#506784",
            "linecolor": "#506784",
            "ticks": ""
           }
          },
          "scene": {
           "xaxis": {
            "backgroundcolor": "rgb(17,17,17)",
            "gridcolor": "#506784",
            "gridwidth": 2,
            "linecolor": "#506784",
            "showbackground": true,
            "ticks": "",
            "zerolinecolor": "#C8D4E3"
           },
           "yaxis": {
            "backgroundcolor": "rgb(17,17,17)",
            "gridcolor": "#506784",
            "gridwidth": 2,
            "linecolor": "#506784",
            "showbackground": true,
            "ticks": "",
            "zerolinecolor": "#C8D4E3"
           },
           "zaxis": {
            "backgroundcolor": "rgb(17,17,17)",
            "gridcolor": "#506784",
            "gridwidth": 2,
            "linecolor": "#506784",
            "showbackground": true,
            "ticks": "",
            "zerolinecolor": "#C8D4E3"
           }
          },
          "shapedefaults": {
           "line": {
            "color": "#f2f5fa"
           }
          },
          "sliderdefaults": {
           "bgcolor": "#C8D4E3",
           "bordercolor": "rgb(17,17,17)",
           "borderwidth": 1,
           "tickwidth": 0
          },
          "ternary": {
           "aaxis": {
            "gridcolor": "#506784",
            "linecolor": "#506784",
            "ticks": ""
           },
           "baxis": {
            "gridcolor": "#506784",
            "linecolor": "#506784",
            "ticks": ""
           },
           "bgcolor": "rgb(17,17,17)",
           "caxis": {
            "gridcolor": "#506784",
            "linecolor": "#506784",
            "ticks": ""
           }
          },
          "title": {
           "x": 0.05
          },
          "updatemenudefaults": {
           "bgcolor": "#506784",
           "borderwidth": 0
          },
          "xaxis": {
           "automargin": true,
           "gridcolor": "#283442",
           "linecolor": "#506784",
           "ticks": "",
           "title": {
            "standoff": 15
           },
           "zerolinecolor": "#283442",
           "zerolinewidth": 2
          },
          "yaxis": {
           "automargin": true,
           "gridcolor": "#283442",
           "linecolor": "#506784",
           "ticks": "",
           "title": {
            "standoff": 15
           },
           "zerolinecolor": "#283442",
           "zerolinewidth": 2
          }
         }
        },
        "title": {
         "text": "Ranking of Catagories WRT Rating"
        },
        "xaxis": {
         "anchor": "y",
         "domain": [
          0,
          1
         ],
         "title": {
          "text": "category"
         }
        },
        "yaxis": {
         "anchor": "x",
         "domain": [
          0,
          1
         ],
         "title": {
          "text": "rating"
         }
        }
       }
      }
     },
     "metadata": {},
     "output_type": "display_data"
    }
   ],
   "source": [
    "fig1 = px.bar(AVG_DF, x='category', y='rating', template='plotly_dark', title='Ranking of Catagories WRT Rating',color='rating', height=800)\n",
    "fig1.show()"
   ]
  },
  {
   "cell_type": "markdown",
   "metadata": {},
   "source": [
    "### Ranking of Catagories WRT AVG Market Price"
   ]
  },
  {
   "cell_type": "code",
   "execution_count": 28,
   "metadata": {},
   "outputs": [
    {
     "data": {
      "application/vnd.plotly.v1+json": {
       "config": {
        "plotlyServerURL": "https://plot.ly"
       },
       "data": [
        {
         "alignmentgroup": "True",
         "hovertemplate": "market_price=%{marker.color}<br>category=%{y}<extra></extra>",
         "legendgroup": "",
         "marker": {
          "color": [
           140.78,
           157.88,
           230.13,
           262.11,
           272.23,
           358.42,
           493.54,
           596.75,
           659.66
          ],
          "coloraxis": "coloraxis",
          "pattern": {
           "shape": ""
          }
         },
         "name": "",
         "offsetgroup": "",
         "orientation": "h",
         "showlegend": false,
         "textposition": "auto",
         "type": "bar",
         "x": [
          140.78,
          157.88,
          230.13,
          262.11,
          272.23,
          358.42,
          493.54,
          596.75,
          659.66
         ],
         "xaxis": "x",
         "y": [
          "Snacks & Branded Foods",
          "Bakery, Cakes & Dairy",
          "Foodgrains, Oil & Masala",
          "Cleaning & Household",
          "Beverages",
          "Gourmet & World Food",
          "Beauty & Hygiene",
          "Baby Care",
          "Kitchen, Garden & Pets"
         ],
         "yaxis": "y"
        }
       ],
       "layout": {
        "barmode": "relative",
        "coloraxis": {
         "colorbar": {
          "title": {
           "text": "market_price"
          }
         },
         "colorscale": [
          [
           0,
           "#0d0887"
          ],
          [
           0.1111111111111111,
           "#46039f"
          ],
          [
           0.2222222222222222,
           "#7201a8"
          ],
          [
           0.3333333333333333,
           "#9c179e"
          ],
          [
           0.4444444444444444,
           "#bd3786"
          ],
          [
           0.5555555555555556,
           "#d8576b"
          ],
          [
           0.6666666666666666,
           "#ed7953"
          ],
          [
           0.7777777777777778,
           "#fb9f3a"
          ],
          [
           0.8888888888888888,
           "#fdca26"
          ],
          [
           1,
           "#f0f921"
          ]
         ]
        },
        "height": 800,
        "legend": {
         "tracegroupgap": 0
        },
        "template": {
         "data": {
          "bar": [
           {
            "error_x": {
             "color": "#f2f5fa"
            },
            "error_y": {
             "color": "#f2f5fa"
            },
            "marker": {
             "line": {
              "color": "rgb(17,17,17)",
              "width": 0.5
             },
             "pattern": {
              "fillmode": "overlay",
              "size": 10,
              "solidity": 0.2
             }
            },
            "type": "bar"
           }
          ],
          "barpolar": [
           {
            "marker": {
             "line": {
              "color": "rgb(17,17,17)",
              "width": 0.5
             },
             "pattern": {
              "fillmode": "overlay",
              "size": 10,
              "solidity": 0.2
             }
            },
            "type": "barpolar"
           }
          ],
          "carpet": [
           {
            "aaxis": {
             "endlinecolor": "#A2B1C6",
             "gridcolor": "#506784",
             "linecolor": "#506784",
             "minorgridcolor": "#506784",
             "startlinecolor": "#A2B1C6"
            },
            "baxis": {
             "endlinecolor": "#A2B1C6",
             "gridcolor": "#506784",
             "linecolor": "#506784",
             "minorgridcolor": "#506784",
             "startlinecolor": "#A2B1C6"
            },
            "type": "carpet"
           }
          ],
          "choropleth": [
           {
            "colorbar": {
             "outlinewidth": 0,
             "ticks": ""
            },
            "type": "choropleth"
           }
          ],
          "contour": [
           {
            "colorbar": {
             "outlinewidth": 0,
             "ticks": ""
            },
            "colorscale": [
             [
              0,
              "#0d0887"
             ],
             [
              0.1111111111111111,
              "#46039f"
             ],
             [
              0.2222222222222222,
              "#7201a8"
             ],
             [
              0.3333333333333333,
              "#9c179e"
             ],
             [
              0.4444444444444444,
              "#bd3786"
             ],
             [
              0.5555555555555556,
              "#d8576b"
             ],
             [
              0.6666666666666666,
              "#ed7953"
             ],
             [
              0.7777777777777778,
              "#fb9f3a"
             ],
             [
              0.8888888888888888,
              "#fdca26"
             ],
             [
              1,
              "#f0f921"
             ]
            ],
            "type": "contour"
           }
          ],
          "contourcarpet": [
           {
            "colorbar": {
             "outlinewidth": 0,
             "ticks": ""
            },
            "type": "contourcarpet"
           }
          ],
          "heatmap": [
           {
            "colorbar": {
             "outlinewidth": 0,
             "ticks": ""
            },
            "colorscale": [
             [
              0,
              "#0d0887"
             ],
             [
              0.1111111111111111,
              "#46039f"
             ],
             [
              0.2222222222222222,
              "#7201a8"
             ],
             [
              0.3333333333333333,
              "#9c179e"
             ],
             [
              0.4444444444444444,
              "#bd3786"
             ],
             [
              0.5555555555555556,
              "#d8576b"
             ],
             [
              0.6666666666666666,
              "#ed7953"
             ],
             [
              0.7777777777777778,
              "#fb9f3a"
             ],
             [
              0.8888888888888888,
              "#fdca26"
             ],
             [
              1,
              "#f0f921"
             ]
            ],
            "type": "heatmap"
           }
          ],
          "heatmapgl": [
           {
            "colorbar": {
             "outlinewidth": 0,
             "ticks": ""
            },
            "colorscale": [
             [
              0,
              "#0d0887"
             ],
             [
              0.1111111111111111,
              "#46039f"
             ],
             [
              0.2222222222222222,
              "#7201a8"
             ],
             [
              0.3333333333333333,
              "#9c179e"
             ],
             [
              0.4444444444444444,
              "#bd3786"
             ],
             [
              0.5555555555555556,
              "#d8576b"
             ],
             [
              0.6666666666666666,
              "#ed7953"
             ],
             [
              0.7777777777777778,
              "#fb9f3a"
             ],
             [
              0.8888888888888888,
              "#fdca26"
             ],
             [
              1,
              "#f0f921"
             ]
            ],
            "type": "heatmapgl"
           }
          ],
          "histogram": [
           {
            "marker": {
             "pattern": {
              "fillmode": "overlay",
              "size": 10,
              "solidity": 0.2
             }
            },
            "type": "histogram"
           }
          ],
          "histogram2d": [
           {
            "colorbar": {
             "outlinewidth": 0,
             "ticks": ""
            },
            "colorscale": [
             [
              0,
              "#0d0887"
             ],
             [
              0.1111111111111111,
              "#46039f"
             ],
             [
              0.2222222222222222,
              "#7201a8"
             ],
             [
              0.3333333333333333,
              "#9c179e"
             ],
             [
              0.4444444444444444,
              "#bd3786"
             ],
             [
              0.5555555555555556,
              "#d8576b"
             ],
             [
              0.6666666666666666,
              "#ed7953"
             ],
             [
              0.7777777777777778,
              "#fb9f3a"
             ],
             [
              0.8888888888888888,
              "#fdca26"
             ],
             [
              1,
              "#f0f921"
             ]
            ],
            "type": "histogram2d"
           }
          ],
          "histogram2dcontour": [
           {
            "colorbar": {
             "outlinewidth": 0,
             "ticks": ""
            },
            "colorscale": [
             [
              0,
              "#0d0887"
             ],
             [
              0.1111111111111111,
              "#46039f"
             ],
             [
              0.2222222222222222,
              "#7201a8"
             ],
             [
              0.3333333333333333,
              "#9c179e"
             ],
             [
              0.4444444444444444,
              "#bd3786"
             ],
             [
              0.5555555555555556,
              "#d8576b"
             ],
             [
              0.6666666666666666,
              "#ed7953"
             ],
             [
              0.7777777777777778,
              "#fb9f3a"
             ],
             [
              0.8888888888888888,
              "#fdca26"
             ],
             [
              1,
              "#f0f921"
             ]
            ],
            "type": "histogram2dcontour"
           }
          ],
          "mesh3d": [
           {
            "colorbar": {
             "outlinewidth": 0,
             "ticks": ""
            },
            "type": "mesh3d"
           }
          ],
          "parcoords": [
           {
            "line": {
             "colorbar": {
              "outlinewidth": 0,
              "ticks": ""
             }
            },
            "type": "parcoords"
           }
          ],
          "pie": [
           {
            "automargin": true,
            "type": "pie"
           }
          ],
          "scatter": [
           {
            "marker": {
             "line": {
              "color": "#283442"
             }
            },
            "type": "scatter"
           }
          ],
          "scatter3d": [
           {
            "line": {
             "colorbar": {
              "outlinewidth": 0,
              "ticks": ""
             }
            },
            "marker": {
             "colorbar": {
              "outlinewidth": 0,
              "ticks": ""
             }
            },
            "type": "scatter3d"
           }
          ],
          "scattercarpet": [
           {
            "marker": {
             "colorbar": {
              "outlinewidth": 0,
              "ticks": ""
             }
            },
            "type": "scattercarpet"
           }
          ],
          "scattergeo": [
           {
            "marker": {
             "colorbar": {
              "outlinewidth": 0,
              "ticks": ""
             }
            },
            "type": "scattergeo"
           }
          ],
          "scattergl": [
           {
            "marker": {
             "line": {
              "color": "#283442"
             }
            },
            "type": "scattergl"
           }
          ],
          "scattermapbox": [
           {
            "marker": {
             "colorbar": {
              "outlinewidth": 0,
              "ticks": ""
             }
            },
            "type": "scattermapbox"
           }
          ],
          "scatterpolar": [
           {
            "marker": {
             "colorbar": {
              "outlinewidth": 0,
              "ticks": ""
             }
            },
            "type": "scatterpolar"
           }
          ],
          "scatterpolargl": [
           {
            "marker": {
             "colorbar": {
              "outlinewidth": 0,
              "ticks": ""
             }
            },
            "type": "scatterpolargl"
           }
          ],
          "scatterternary": [
           {
            "marker": {
             "colorbar": {
              "outlinewidth": 0,
              "ticks": ""
             }
            },
            "type": "scatterternary"
           }
          ],
          "surface": [
           {
            "colorbar": {
             "outlinewidth": 0,
             "ticks": ""
            },
            "colorscale": [
             [
              0,
              "#0d0887"
             ],
             [
              0.1111111111111111,
              "#46039f"
             ],
             [
              0.2222222222222222,
              "#7201a8"
             ],
             [
              0.3333333333333333,
              "#9c179e"
             ],
             [
              0.4444444444444444,
              "#bd3786"
             ],
             [
              0.5555555555555556,
              "#d8576b"
             ],
             [
              0.6666666666666666,
              "#ed7953"
             ],
             [
              0.7777777777777778,
              "#fb9f3a"
             ],
             [
              0.8888888888888888,
              "#fdca26"
             ],
             [
              1,
              "#f0f921"
             ]
            ],
            "type": "surface"
           }
          ],
          "table": [
           {
            "cells": {
             "fill": {
              "color": "#506784"
             },
             "line": {
              "color": "rgb(17,17,17)"
             }
            },
            "header": {
             "fill": {
              "color": "#2a3f5f"
             },
             "line": {
              "color": "rgb(17,17,17)"
             }
            },
            "type": "table"
           }
          ]
         },
         "layout": {
          "annotationdefaults": {
           "arrowcolor": "#f2f5fa",
           "arrowhead": 0,
           "arrowwidth": 1
          },
          "autotypenumbers": "strict",
          "coloraxis": {
           "colorbar": {
            "outlinewidth": 0,
            "ticks": ""
           }
          },
          "colorscale": {
           "diverging": [
            [
             0,
             "#8e0152"
            ],
            [
             0.1,
             "#c51b7d"
            ],
            [
             0.2,
             "#de77ae"
            ],
            [
             0.3,
             "#f1b6da"
            ],
            [
             0.4,
             "#fde0ef"
            ],
            [
             0.5,
             "#f7f7f7"
            ],
            [
             0.6,
             "#e6f5d0"
            ],
            [
             0.7,
             "#b8e186"
            ],
            [
             0.8,
             "#7fbc41"
            ],
            [
             0.9,
             "#4d9221"
            ],
            [
             1,
             "#276419"
            ]
           ],
           "sequential": [
            [
             0,
             "#0d0887"
            ],
            [
             0.1111111111111111,
             "#46039f"
            ],
            [
             0.2222222222222222,
             "#7201a8"
            ],
            [
             0.3333333333333333,
             "#9c179e"
            ],
            [
             0.4444444444444444,
             "#bd3786"
            ],
            [
             0.5555555555555556,
             "#d8576b"
            ],
            [
             0.6666666666666666,
             "#ed7953"
            ],
            [
             0.7777777777777778,
             "#fb9f3a"
            ],
            [
             0.8888888888888888,
             "#fdca26"
            ],
            [
             1,
             "#f0f921"
            ]
           ],
           "sequentialminus": [
            [
             0,
             "#0d0887"
            ],
            [
             0.1111111111111111,
             "#46039f"
            ],
            [
             0.2222222222222222,
             "#7201a8"
            ],
            [
             0.3333333333333333,
             "#9c179e"
            ],
            [
             0.4444444444444444,
             "#bd3786"
            ],
            [
             0.5555555555555556,
             "#d8576b"
            ],
            [
             0.6666666666666666,
             "#ed7953"
            ],
            [
             0.7777777777777778,
             "#fb9f3a"
            ],
            [
             0.8888888888888888,
             "#fdca26"
            ],
            [
             1,
             "#f0f921"
            ]
           ]
          },
          "colorway": [
           "#636efa",
           "#EF553B",
           "#00cc96",
           "#ab63fa",
           "#FFA15A",
           "#19d3f3",
           "#FF6692",
           "#B6E880",
           "#FF97FF",
           "#FECB52"
          ],
          "font": {
           "color": "#f2f5fa"
          },
          "geo": {
           "bgcolor": "rgb(17,17,17)",
           "lakecolor": "rgb(17,17,17)",
           "landcolor": "rgb(17,17,17)",
           "showlakes": true,
           "showland": true,
           "subunitcolor": "#506784"
          },
          "hoverlabel": {
           "align": "left"
          },
          "hovermode": "closest",
          "mapbox": {
           "style": "dark"
          },
          "paper_bgcolor": "rgb(17,17,17)",
          "plot_bgcolor": "rgb(17,17,17)",
          "polar": {
           "angularaxis": {
            "gridcolor": "#506784",
            "linecolor": "#506784",
            "ticks": ""
           },
           "bgcolor": "rgb(17,17,17)",
           "radialaxis": {
            "gridcolor": "#506784",
            "linecolor": "#506784",
            "ticks": ""
           }
          },
          "scene": {
           "xaxis": {
            "backgroundcolor": "rgb(17,17,17)",
            "gridcolor": "#506784",
            "gridwidth": 2,
            "linecolor": "#506784",
            "showbackground": true,
            "ticks": "",
            "zerolinecolor": "#C8D4E3"
           },
           "yaxis": {
            "backgroundcolor": "rgb(17,17,17)",
            "gridcolor": "#506784",
            "gridwidth": 2,
            "linecolor": "#506784",
            "showbackground": true,
            "ticks": "",
            "zerolinecolor": "#C8D4E3"
           },
           "zaxis": {
            "backgroundcolor": "rgb(17,17,17)",
            "gridcolor": "#506784",
            "gridwidth": 2,
            "linecolor": "#506784",
            "showbackground": true,
            "ticks": "",
            "zerolinecolor": "#C8D4E3"
           }
          },
          "shapedefaults": {
           "line": {
            "color": "#f2f5fa"
           }
          },
          "sliderdefaults": {
           "bgcolor": "#C8D4E3",
           "bordercolor": "rgb(17,17,17)",
           "borderwidth": 1,
           "tickwidth": 0
          },
          "ternary": {
           "aaxis": {
            "gridcolor": "#506784",
            "linecolor": "#506784",
            "ticks": ""
           },
           "baxis": {
            "gridcolor": "#506784",
            "linecolor": "#506784",
            "ticks": ""
           },
           "bgcolor": "rgb(17,17,17)",
           "caxis": {
            "gridcolor": "#506784",
            "linecolor": "#506784",
            "ticks": ""
           }
          },
          "title": {
           "x": 0.05
          },
          "updatemenudefaults": {
           "bgcolor": "#506784",
           "borderwidth": 0
          },
          "xaxis": {
           "automargin": true,
           "gridcolor": "#283442",
           "linecolor": "#506784",
           "ticks": "",
           "title": {
            "standoff": 15
           },
           "zerolinecolor": "#283442",
           "zerolinewidth": 2
          },
          "yaxis": {
           "automargin": true,
           "gridcolor": "#283442",
           "linecolor": "#506784",
           "ticks": "",
           "title": {
            "standoff": 15
           },
           "zerolinecolor": "#283442",
           "zerolinewidth": 2
          }
         }
        },
        "title": {
         "text": "Ranking of Catagories WRT AVG Market Price"
        },
        "xaxis": {
         "anchor": "y",
         "domain": [
          0,
          1
         ],
         "title": {
          "text": "market_price"
         }
        },
        "yaxis": {
         "anchor": "x",
         "domain": [
          0,
          1
         ],
         "title": {
          "text": "category"
         }
        }
       }
      }
     },
     "metadata": {},
     "output_type": "display_data"
    }
   ],
   "source": [
    "avg_market_price_df = AVG_DF.sort_values('market_price', ascending=True)\n",
    "\n",
    "fig2 = px.bar(avg_market_price_df, x='market_price', y='category', template='plotly_dark', \n",
    "             color='market_price',title='Ranking of Catagories WRT AVG Market Price', height=800)\n",
    "\n",
    "fig2.show()"
   ]
  },
  {
   "cell_type": "markdown",
   "metadata": {},
   "source": [
    "### Ranking of Catagories WRT AVG Sale Price"
   ]
  },
  {
   "cell_type": "code",
   "execution_count": 29,
   "metadata": {},
   "outputs": [
    {
     "data": {
      "application/vnd.plotly.v1+json": {
       "config": {
        "plotlyServerURL": "https://plot.ly"
       },
       "data": [
        {
         "alignmentgroup": "True",
         "hovertemplate": "sale_price=%{marker.color}<br>category=%{y}<extra></extra>",
         "legendgroup": "",
         "marker": {
          "color": [
           129.59,
           142.8,
           193.17,
           226.17,
           239.76,
           319.85,
           418.68,
           507.52,
           534.95
          ],
          "coloraxis": "coloraxis",
          "pattern": {
           "shape": ""
          }
         },
         "name": "",
         "offsetgroup": "",
         "orientation": "h",
         "showlegend": false,
         "textposition": "auto",
         "type": "bar",
         "x": [
          129.59,
          142.8,
          193.17,
          226.17,
          239.76,
          319.85,
          418.68,
          507.52,
          534.95
         ],
         "xaxis": "x",
         "y": [
          "Snacks & Branded Foods",
          "Bakery, Cakes & Dairy",
          "Foodgrains, Oil & Masala",
          "Cleaning & Household",
          "Beverages",
          "Gourmet & World Food",
          "Beauty & Hygiene",
          "Kitchen, Garden & Pets",
          "Baby Care"
         ],
         "yaxis": "y"
        }
       ],
       "layout": {
        "barmode": "relative",
        "coloraxis": {
         "colorbar": {
          "title": {
           "text": "sale_price"
          }
         },
         "colorscale": [
          [
           0,
           "#0d0887"
          ],
          [
           0.1111111111111111,
           "#46039f"
          ],
          [
           0.2222222222222222,
           "#7201a8"
          ],
          [
           0.3333333333333333,
           "#9c179e"
          ],
          [
           0.4444444444444444,
           "#bd3786"
          ],
          [
           0.5555555555555556,
           "#d8576b"
          ],
          [
           0.6666666666666666,
           "#ed7953"
          ],
          [
           0.7777777777777778,
           "#fb9f3a"
          ],
          [
           0.8888888888888888,
           "#fdca26"
          ],
          [
           1,
           "#f0f921"
          ]
         ]
        },
        "height": 800,
        "legend": {
         "tracegroupgap": 0
        },
        "template": {
         "data": {
          "bar": [
           {
            "error_x": {
             "color": "#f2f5fa"
            },
            "error_y": {
             "color": "#f2f5fa"
            },
            "marker": {
             "line": {
              "color": "rgb(17,17,17)",
              "width": 0.5
             },
             "pattern": {
              "fillmode": "overlay",
              "size": 10,
              "solidity": 0.2
             }
            },
            "type": "bar"
           }
          ],
          "barpolar": [
           {
            "marker": {
             "line": {
              "color": "rgb(17,17,17)",
              "width": 0.5
             },
             "pattern": {
              "fillmode": "overlay",
              "size": 10,
              "solidity": 0.2
             }
            },
            "type": "barpolar"
           }
          ],
          "carpet": [
           {
            "aaxis": {
             "endlinecolor": "#A2B1C6",
             "gridcolor": "#506784",
             "linecolor": "#506784",
             "minorgridcolor": "#506784",
             "startlinecolor": "#A2B1C6"
            },
            "baxis": {
             "endlinecolor": "#A2B1C6",
             "gridcolor": "#506784",
             "linecolor": "#506784",
             "minorgridcolor": "#506784",
             "startlinecolor": "#A2B1C6"
            },
            "type": "carpet"
           }
          ],
          "choropleth": [
           {
            "colorbar": {
             "outlinewidth": 0,
             "ticks": ""
            },
            "type": "choropleth"
           }
          ],
          "contour": [
           {
            "colorbar": {
             "outlinewidth": 0,
             "ticks": ""
            },
            "colorscale": [
             [
              0,
              "#0d0887"
             ],
             [
              0.1111111111111111,
              "#46039f"
             ],
             [
              0.2222222222222222,
              "#7201a8"
             ],
             [
              0.3333333333333333,
              "#9c179e"
             ],
             [
              0.4444444444444444,
              "#bd3786"
             ],
             [
              0.5555555555555556,
              "#d8576b"
             ],
             [
              0.6666666666666666,
              "#ed7953"
             ],
             [
              0.7777777777777778,
              "#fb9f3a"
             ],
             [
              0.8888888888888888,
              "#fdca26"
             ],
             [
              1,
              "#f0f921"
             ]
            ],
            "type": "contour"
           }
          ],
          "contourcarpet": [
           {
            "colorbar": {
             "outlinewidth": 0,
             "ticks": ""
            },
            "type": "contourcarpet"
           }
          ],
          "heatmap": [
           {
            "colorbar": {
             "outlinewidth": 0,
             "ticks": ""
            },
            "colorscale": [
             [
              0,
              "#0d0887"
             ],
             [
              0.1111111111111111,
              "#46039f"
             ],
             [
              0.2222222222222222,
              "#7201a8"
             ],
             [
              0.3333333333333333,
              "#9c179e"
             ],
             [
              0.4444444444444444,
              "#bd3786"
             ],
             [
              0.5555555555555556,
              "#d8576b"
             ],
             [
              0.6666666666666666,
              "#ed7953"
             ],
             [
              0.7777777777777778,
              "#fb9f3a"
             ],
             [
              0.8888888888888888,
              "#fdca26"
             ],
             [
              1,
              "#f0f921"
             ]
            ],
            "type": "heatmap"
           }
          ],
          "heatmapgl": [
           {
            "colorbar": {
             "outlinewidth": 0,
             "ticks": ""
            },
            "colorscale": [
             [
              0,
              "#0d0887"
             ],
             [
              0.1111111111111111,
              "#46039f"
             ],
             [
              0.2222222222222222,
              "#7201a8"
             ],
             [
              0.3333333333333333,
              "#9c179e"
             ],
             [
              0.4444444444444444,
              "#bd3786"
             ],
             [
              0.5555555555555556,
              "#d8576b"
             ],
             [
              0.6666666666666666,
              "#ed7953"
             ],
             [
              0.7777777777777778,
              "#fb9f3a"
             ],
             [
              0.8888888888888888,
              "#fdca26"
             ],
             [
              1,
              "#f0f921"
             ]
            ],
            "type": "heatmapgl"
           }
          ],
          "histogram": [
           {
            "marker": {
             "pattern": {
              "fillmode": "overlay",
              "size": 10,
              "solidity": 0.2
             }
            },
            "type": "histogram"
           }
          ],
          "histogram2d": [
           {
            "colorbar": {
             "outlinewidth": 0,
             "ticks": ""
            },
            "colorscale": [
             [
              0,
              "#0d0887"
             ],
             [
              0.1111111111111111,
              "#46039f"
             ],
             [
              0.2222222222222222,
              "#7201a8"
             ],
             [
              0.3333333333333333,
              "#9c179e"
             ],
             [
              0.4444444444444444,
              "#bd3786"
             ],
             [
              0.5555555555555556,
              "#d8576b"
             ],
             [
              0.6666666666666666,
              "#ed7953"
             ],
             [
              0.7777777777777778,
              "#fb9f3a"
             ],
             [
              0.8888888888888888,
              "#fdca26"
             ],
             [
              1,
              "#f0f921"
             ]
            ],
            "type": "histogram2d"
           }
          ],
          "histogram2dcontour": [
           {
            "colorbar": {
             "outlinewidth": 0,
             "ticks": ""
            },
            "colorscale": [
             [
              0,
              "#0d0887"
             ],
             [
              0.1111111111111111,
              "#46039f"
             ],
             [
              0.2222222222222222,
              "#7201a8"
             ],
             [
              0.3333333333333333,
              "#9c179e"
             ],
             [
              0.4444444444444444,
              "#bd3786"
             ],
             [
              0.5555555555555556,
              "#d8576b"
             ],
             [
              0.6666666666666666,
              "#ed7953"
             ],
             [
              0.7777777777777778,
              "#fb9f3a"
             ],
             [
              0.8888888888888888,
              "#fdca26"
             ],
             [
              1,
              "#f0f921"
             ]
            ],
            "type": "histogram2dcontour"
           }
          ],
          "mesh3d": [
           {
            "colorbar": {
             "outlinewidth": 0,
             "ticks": ""
            },
            "type": "mesh3d"
           }
          ],
          "parcoords": [
           {
            "line": {
             "colorbar": {
              "outlinewidth": 0,
              "ticks": ""
             }
            },
            "type": "parcoords"
           }
          ],
          "pie": [
           {
            "automargin": true,
            "type": "pie"
           }
          ],
          "scatter": [
           {
            "marker": {
             "line": {
              "color": "#283442"
             }
            },
            "type": "scatter"
           }
          ],
          "scatter3d": [
           {
            "line": {
             "colorbar": {
              "outlinewidth": 0,
              "ticks": ""
             }
            },
            "marker": {
             "colorbar": {
              "outlinewidth": 0,
              "ticks": ""
             }
            },
            "type": "scatter3d"
           }
          ],
          "scattercarpet": [
           {
            "marker": {
             "colorbar": {
              "outlinewidth": 0,
              "ticks": ""
             }
            },
            "type": "scattercarpet"
           }
          ],
          "scattergeo": [
           {
            "marker": {
             "colorbar": {
              "outlinewidth": 0,
              "ticks": ""
             }
            },
            "type": "scattergeo"
           }
          ],
          "scattergl": [
           {
            "marker": {
             "line": {
              "color": "#283442"
             }
            },
            "type": "scattergl"
           }
          ],
          "scattermapbox": [
           {
            "marker": {
             "colorbar": {
              "outlinewidth": 0,
              "ticks": ""
             }
            },
            "type": "scattermapbox"
           }
          ],
          "scatterpolar": [
           {
            "marker": {
             "colorbar": {
              "outlinewidth": 0,
              "ticks": ""
             }
            },
            "type": "scatterpolar"
           }
          ],
          "scatterpolargl": [
           {
            "marker": {
             "colorbar": {
              "outlinewidth": 0,
              "ticks": ""
             }
            },
            "type": "scatterpolargl"
           }
          ],
          "scatterternary": [
           {
            "marker": {
             "colorbar": {
              "outlinewidth": 0,
              "ticks": ""
             }
            },
            "type": "scatterternary"
           }
          ],
          "surface": [
           {
            "colorbar": {
             "outlinewidth": 0,
             "ticks": ""
            },
            "colorscale": [
             [
              0,
              "#0d0887"
             ],
             [
              0.1111111111111111,
              "#46039f"
             ],
             [
              0.2222222222222222,
              "#7201a8"
             ],
             [
              0.3333333333333333,
              "#9c179e"
             ],
             [
              0.4444444444444444,
              "#bd3786"
             ],
             [
              0.5555555555555556,
              "#d8576b"
             ],
             [
              0.6666666666666666,
              "#ed7953"
             ],
             [
              0.7777777777777778,
              "#fb9f3a"
             ],
             [
              0.8888888888888888,
              "#fdca26"
             ],
             [
              1,
              "#f0f921"
             ]
            ],
            "type": "surface"
           }
          ],
          "table": [
           {
            "cells": {
             "fill": {
              "color": "#506784"
             },
             "line": {
              "color": "rgb(17,17,17)"
             }
            },
            "header": {
             "fill": {
              "color": "#2a3f5f"
             },
             "line": {
              "color": "rgb(17,17,17)"
             }
            },
            "type": "table"
           }
          ]
         },
         "layout": {
          "annotationdefaults": {
           "arrowcolor": "#f2f5fa",
           "arrowhead": 0,
           "arrowwidth": 1
          },
          "autotypenumbers": "strict",
          "coloraxis": {
           "colorbar": {
            "outlinewidth": 0,
            "ticks": ""
           }
          },
          "colorscale": {
           "diverging": [
            [
             0,
             "#8e0152"
            ],
            [
             0.1,
             "#c51b7d"
            ],
            [
             0.2,
             "#de77ae"
            ],
            [
             0.3,
             "#f1b6da"
            ],
            [
             0.4,
             "#fde0ef"
            ],
            [
             0.5,
             "#f7f7f7"
            ],
            [
             0.6,
             "#e6f5d0"
            ],
            [
             0.7,
             "#b8e186"
            ],
            [
             0.8,
             "#7fbc41"
            ],
            [
             0.9,
             "#4d9221"
            ],
            [
             1,
             "#276419"
            ]
           ],
           "sequential": [
            [
             0,
             "#0d0887"
            ],
            [
             0.1111111111111111,
             "#46039f"
            ],
            [
             0.2222222222222222,
             "#7201a8"
            ],
            [
             0.3333333333333333,
             "#9c179e"
            ],
            [
             0.4444444444444444,
             "#bd3786"
            ],
            [
             0.5555555555555556,
             "#d8576b"
            ],
            [
             0.6666666666666666,
             "#ed7953"
            ],
            [
             0.7777777777777778,
             "#fb9f3a"
            ],
            [
             0.8888888888888888,
             "#fdca26"
            ],
            [
             1,
             "#f0f921"
            ]
           ],
           "sequentialminus": [
            [
             0,
             "#0d0887"
            ],
            [
             0.1111111111111111,
             "#46039f"
            ],
            [
             0.2222222222222222,
             "#7201a8"
            ],
            [
             0.3333333333333333,
             "#9c179e"
            ],
            [
             0.4444444444444444,
             "#bd3786"
            ],
            [
             0.5555555555555556,
             "#d8576b"
            ],
            [
             0.6666666666666666,
             "#ed7953"
            ],
            [
             0.7777777777777778,
             "#fb9f3a"
            ],
            [
             0.8888888888888888,
             "#fdca26"
            ],
            [
             1,
             "#f0f921"
            ]
           ]
          },
          "colorway": [
           "#636efa",
           "#EF553B",
           "#00cc96",
           "#ab63fa",
           "#FFA15A",
           "#19d3f3",
           "#FF6692",
           "#B6E880",
           "#FF97FF",
           "#FECB52"
          ],
          "font": {
           "color": "#f2f5fa"
          },
          "geo": {
           "bgcolor": "rgb(17,17,17)",
           "lakecolor": "rgb(17,17,17)",
           "landcolor": "rgb(17,17,17)",
           "showlakes": true,
           "showland": true,
           "subunitcolor": "#506784"
          },
          "hoverlabel": {
           "align": "left"
          },
          "hovermode": "closest",
          "mapbox": {
           "style": "dark"
          },
          "paper_bgcolor": "rgb(17,17,17)",
          "plot_bgcolor": "rgb(17,17,17)",
          "polar": {
           "angularaxis": {
            "gridcolor": "#506784",
            "linecolor": "#506784",
            "ticks": ""
           },
           "bgcolor": "rgb(17,17,17)",
           "radialaxis": {
            "gridcolor": "#506784",
            "linecolor": "#506784",
            "ticks": ""
           }
          },
          "scene": {
           "xaxis": {
            "backgroundcolor": "rgb(17,17,17)",
            "gridcolor": "#506784",
            "gridwidth": 2,
            "linecolor": "#506784",
            "showbackground": true,
            "ticks": "",
            "zerolinecolor": "#C8D4E3"
           },
           "yaxis": {
            "backgroundcolor": "rgb(17,17,17)",
            "gridcolor": "#506784",
            "gridwidth": 2,
            "linecolor": "#506784",
            "showbackground": true,
            "ticks": "",
            "zerolinecolor": "#C8D4E3"
           },
           "zaxis": {
            "backgroundcolor": "rgb(17,17,17)",
            "gridcolor": "#506784",
            "gridwidth": 2,
            "linecolor": "#506784",
            "showbackground": true,
            "ticks": "",
            "zerolinecolor": "#C8D4E3"
           }
          },
          "shapedefaults": {
           "line": {
            "color": "#f2f5fa"
           }
          },
          "sliderdefaults": {
           "bgcolor": "#C8D4E3",
           "bordercolor": "rgb(17,17,17)",
           "borderwidth": 1,
           "tickwidth": 0
          },
          "ternary": {
           "aaxis": {
            "gridcolor": "#506784",
            "linecolor": "#506784",
            "ticks": ""
           },
           "baxis": {
            "gridcolor": "#506784",
            "linecolor": "#506784",
            "ticks": ""
           },
           "bgcolor": "rgb(17,17,17)",
           "caxis": {
            "gridcolor": "#506784",
            "linecolor": "#506784",
            "ticks": ""
           }
          },
          "title": {
           "x": 0.05
          },
          "updatemenudefaults": {
           "bgcolor": "#506784",
           "borderwidth": 0
          },
          "xaxis": {
           "automargin": true,
           "gridcolor": "#283442",
           "linecolor": "#506784",
           "ticks": "",
           "title": {
            "standoff": 15
           },
           "zerolinecolor": "#283442",
           "zerolinewidth": 2
          },
          "yaxis": {
           "automargin": true,
           "gridcolor": "#283442",
           "linecolor": "#506784",
           "ticks": "",
           "title": {
            "standoff": 15
           },
           "zerolinecolor": "#283442",
           "zerolinewidth": 2
          }
         }
        },
        "title": {
         "text": "Ranking of Catagories WRT AVG Sale Price"
        },
        "xaxis": {
         "anchor": "y",
         "domain": [
          0,
          1
         ],
         "title": {
          "text": "sale_price"
         }
        },
        "yaxis": {
         "anchor": "x",
         "domain": [
          0,
          1
         ],
         "title": {
          "text": "category"
         }
        }
       }
      }
     },
     "metadata": {},
     "output_type": "display_data"
    }
   ],
   "source": [
    "#same as the above but this time we are calculating it for sale price\n",
    "avg_sale_price_df = AVG_DF.sort_values('sale_price', ascending=True)\n",
    "\n",
    "fig3 = px.bar(avg_sale_price_df, x='sale_price', y='category', template='plotly_dark', \n",
    "             color='sale_price',title='Ranking of Catagories WRT AVG Sale Price', height=800)\n",
    "\n",
    "fig3.show()"
   ]
  },
  {
   "cell_type": "markdown",
   "metadata": {},
   "source": [
    "##### So, now that we have visualized the ranking of avg market price and the avg sale price, we will compare these on a scatter plot to see if there is any actual diff or correlation"
   ]
  },
  {
   "cell_type": "markdown",
   "metadata": {},
   "source": [
    "##### Comparision of cross Market Price and Sale Price"
   ]
  },
  {
   "cell_type": "code",
   "execution_count": 30,
   "metadata": {},
   "outputs": [
    {
     "data": {
      "application/vnd.plotly.v1+json": {
       "config": {
        "plotlyServerURL": "https://plot.ly"
       },
       "data": [
        {
         "customdata": [
          [
           "Snacks & Branded Foods",
           3.98
          ],
          [
           "Bakery, Cakes & Dairy",
           3.91
          ],
          [
           "Foodgrains, Oil & Masala",
           4.06
          ],
          [
           "Cleaning & Household",
           3.96
          ],
          [
           "Beverages",
           4.08
          ],
          [
           "Gourmet & World Food",
           3.98
          ],
          [
           "Beauty & Hygiene",
           3.93
          ],
          [
           "Kitchen, Garden & Pets",
           3.73
          ],
          [
           "Baby Care",
           4.02
          ]
         ],
         "hovertemplate": "sale_price=%{marker.color}<br>market_price=%{y}<br>category=%{customdata[0]}<br>rating=%{customdata[1]}<extra></extra>",
         "legendgroup": "",
         "marker": {
          "color": [
           129.59,
           142.8,
           193.17,
           226.17,
           239.76,
           319.85,
           418.68,
           507.52,
           534.95
          ],
          "coloraxis": "coloraxis",
          "size": [
           129.59,
           142.8,
           193.17,
           226.17,
           239.76,
           319.85,
           418.68,
           507.52,
           534.95
          ],
          "sizemode": "area",
          "sizeref": 1.3373750000000002,
          "symbol": "circle"
         },
         "mode": "markers",
         "name": "",
         "orientation": "v",
         "showlegend": false,
         "type": "scatter",
         "x": [
          129.59,
          142.8,
          193.17,
          226.17,
          239.76,
          319.85,
          418.68,
          507.52,
          534.95
         ],
         "xaxis": "x",
         "y": [
          140.78,
          157.88,
          230.13,
          262.11,
          272.23,
          358.42,
          493.54,
          659.66,
          596.75
         ],
         "yaxis": "y"
        }
       ],
       "layout": {
        "coloraxis": {
         "colorbar": {
          "title": {
           "text": "sale_price"
          }
         },
         "colorscale": [
          [
           0,
           "#0d0887"
          ],
          [
           0.1111111111111111,
           "#46039f"
          ],
          [
           0.2222222222222222,
           "#7201a8"
          ],
          [
           0.3333333333333333,
           "#9c179e"
          ],
          [
           0.4444444444444444,
           "#bd3786"
          ],
          [
           0.5555555555555556,
           "#d8576b"
          ],
          [
           0.6666666666666666,
           "#ed7953"
          ],
          [
           0.7777777777777778,
           "#fb9f3a"
          ],
          [
           0.8888888888888888,
           "#fdca26"
          ],
          [
           1,
           "#f0f921"
          ]
         ]
        },
        "height": 800,
        "legend": {
         "itemsizing": "constant",
         "tracegroupgap": 0
        },
        "template": {
         "data": {
          "bar": [
           {
            "error_x": {
             "color": "#f2f5fa"
            },
            "error_y": {
             "color": "#f2f5fa"
            },
            "marker": {
             "line": {
              "color": "rgb(17,17,17)",
              "width": 0.5
             },
             "pattern": {
              "fillmode": "overlay",
              "size": 10,
              "solidity": 0.2
             }
            },
            "type": "bar"
           }
          ],
          "barpolar": [
           {
            "marker": {
             "line": {
              "color": "rgb(17,17,17)",
              "width": 0.5
             },
             "pattern": {
              "fillmode": "overlay",
              "size": 10,
              "solidity": 0.2
             }
            },
            "type": "barpolar"
           }
          ],
          "carpet": [
           {
            "aaxis": {
             "endlinecolor": "#A2B1C6",
             "gridcolor": "#506784",
             "linecolor": "#506784",
             "minorgridcolor": "#506784",
             "startlinecolor": "#A2B1C6"
            },
            "baxis": {
             "endlinecolor": "#A2B1C6",
             "gridcolor": "#506784",
             "linecolor": "#506784",
             "minorgridcolor": "#506784",
             "startlinecolor": "#A2B1C6"
            },
            "type": "carpet"
           }
          ],
          "choropleth": [
           {
            "colorbar": {
             "outlinewidth": 0,
             "ticks": ""
            },
            "type": "choropleth"
           }
          ],
          "contour": [
           {
            "colorbar": {
             "outlinewidth": 0,
             "ticks": ""
            },
            "colorscale": [
             [
              0,
              "#0d0887"
             ],
             [
              0.1111111111111111,
              "#46039f"
             ],
             [
              0.2222222222222222,
              "#7201a8"
             ],
             [
              0.3333333333333333,
              "#9c179e"
             ],
             [
              0.4444444444444444,
              "#bd3786"
             ],
             [
              0.5555555555555556,
              "#d8576b"
             ],
             [
              0.6666666666666666,
              "#ed7953"
             ],
             [
              0.7777777777777778,
              "#fb9f3a"
             ],
             [
              0.8888888888888888,
              "#fdca26"
             ],
             [
              1,
              "#f0f921"
             ]
            ],
            "type": "contour"
           }
          ],
          "contourcarpet": [
           {
            "colorbar": {
             "outlinewidth": 0,
             "ticks": ""
            },
            "type": "contourcarpet"
           }
          ],
          "heatmap": [
           {
            "colorbar": {
             "outlinewidth": 0,
             "ticks": ""
            },
            "colorscale": [
             [
              0,
              "#0d0887"
             ],
             [
              0.1111111111111111,
              "#46039f"
             ],
             [
              0.2222222222222222,
              "#7201a8"
             ],
             [
              0.3333333333333333,
              "#9c179e"
             ],
             [
              0.4444444444444444,
              "#bd3786"
             ],
             [
              0.5555555555555556,
              "#d8576b"
             ],
             [
              0.6666666666666666,
              "#ed7953"
             ],
             [
              0.7777777777777778,
              "#fb9f3a"
             ],
             [
              0.8888888888888888,
              "#fdca26"
             ],
             [
              1,
              "#f0f921"
             ]
            ],
            "type": "heatmap"
           }
          ],
          "heatmapgl": [
           {
            "colorbar": {
             "outlinewidth": 0,
             "ticks": ""
            },
            "colorscale": [
             [
              0,
              "#0d0887"
             ],
             [
              0.1111111111111111,
              "#46039f"
             ],
             [
              0.2222222222222222,
              "#7201a8"
             ],
             [
              0.3333333333333333,
              "#9c179e"
             ],
             [
              0.4444444444444444,
              "#bd3786"
             ],
             [
              0.5555555555555556,
              "#d8576b"
             ],
             [
              0.6666666666666666,
              "#ed7953"
             ],
             [
              0.7777777777777778,
              "#fb9f3a"
             ],
             [
              0.8888888888888888,
              "#fdca26"
             ],
             [
              1,
              "#f0f921"
             ]
            ],
            "type": "heatmapgl"
           }
          ],
          "histogram": [
           {
            "marker": {
             "pattern": {
              "fillmode": "overlay",
              "size": 10,
              "solidity": 0.2
             }
            },
            "type": "histogram"
           }
          ],
          "histogram2d": [
           {
            "colorbar": {
             "outlinewidth": 0,
             "ticks": ""
            },
            "colorscale": [
             [
              0,
              "#0d0887"
             ],
             [
              0.1111111111111111,
              "#46039f"
             ],
             [
              0.2222222222222222,
              "#7201a8"
             ],
             [
              0.3333333333333333,
              "#9c179e"
             ],
             [
              0.4444444444444444,
              "#bd3786"
             ],
             [
              0.5555555555555556,
              "#d8576b"
             ],
             [
              0.6666666666666666,
              "#ed7953"
             ],
             [
              0.7777777777777778,
              "#fb9f3a"
             ],
             [
              0.8888888888888888,
              "#fdca26"
             ],
             [
              1,
              "#f0f921"
             ]
            ],
            "type": "histogram2d"
           }
          ],
          "histogram2dcontour": [
           {
            "colorbar": {
             "outlinewidth": 0,
             "ticks": ""
            },
            "colorscale": [
             [
              0,
              "#0d0887"
             ],
             [
              0.1111111111111111,
              "#46039f"
             ],
             [
              0.2222222222222222,
              "#7201a8"
             ],
             [
              0.3333333333333333,
              "#9c179e"
             ],
             [
              0.4444444444444444,
              "#bd3786"
             ],
             [
              0.5555555555555556,
              "#d8576b"
             ],
             [
              0.6666666666666666,
              "#ed7953"
             ],
             [
              0.7777777777777778,
              "#fb9f3a"
             ],
             [
              0.8888888888888888,
              "#fdca26"
             ],
             [
              1,
              "#f0f921"
             ]
            ],
            "type": "histogram2dcontour"
           }
          ],
          "mesh3d": [
           {
            "colorbar": {
             "outlinewidth": 0,
             "ticks": ""
            },
            "type": "mesh3d"
           }
          ],
          "parcoords": [
           {
            "line": {
             "colorbar": {
              "outlinewidth": 0,
              "ticks": ""
             }
            },
            "type": "parcoords"
           }
          ],
          "pie": [
           {
            "automargin": true,
            "type": "pie"
           }
          ],
          "scatter": [
           {
            "marker": {
             "line": {
              "color": "#283442"
             }
            },
            "type": "scatter"
           }
          ],
          "scatter3d": [
           {
            "line": {
             "colorbar": {
              "outlinewidth": 0,
              "ticks": ""
             }
            },
            "marker": {
             "colorbar": {
              "outlinewidth": 0,
              "ticks": ""
             }
            },
            "type": "scatter3d"
           }
          ],
          "scattercarpet": [
           {
            "marker": {
             "colorbar": {
              "outlinewidth": 0,
              "ticks": ""
             }
            },
            "type": "scattercarpet"
           }
          ],
          "scattergeo": [
           {
            "marker": {
             "colorbar": {
              "outlinewidth": 0,
              "ticks": ""
             }
            },
            "type": "scattergeo"
           }
          ],
          "scattergl": [
           {
            "marker": {
             "line": {
              "color": "#283442"
             }
            },
            "type": "scattergl"
           }
          ],
          "scattermapbox": [
           {
            "marker": {
             "colorbar": {
              "outlinewidth": 0,
              "ticks": ""
             }
            },
            "type": "scattermapbox"
           }
          ],
          "scatterpolar": [
           {
            "marker": {
             "colorbar": {
              "outlinewidth": 0,
              "ticks": ""
             }
            },
            "type": "scatterpolar"
           }
          ],
          "scatterpolargl": [
           {
            "marker": {
             "colorbar": {
              "outlinewidth": 0,
              "ticks": ""
             }
            },
            "type": "scatterpolargl"
           }
          ],
          "scatterternary": [
           {
            "marker": {
             "colorbar": {
              "outlinewidth": 0,
              "ticks": ""
             }
            },
            "type": "scatterternary"
           }
          ],
          "surface": [
           {
            "colorbar": {
             "outlinewidth": 0,
             "ticks": ""
            },
            "colorscale": [
             [
              0,
              "#0d0887"
             ],
             [
              0.1111111111111111,
              "#46039f"
             ],
             [
              0.2222222222222222,
              "#7201a8"
             ],
             [
              0.3333333333333333,
              "#9c179e"
             ],
             [
              0.4444444444444444,
              "#bd3786"
             ],
             [
              0.5555555555555556,
              "#d8576b"
             ],
             [
              0.6666666666666666,
              "#ed7953"
             ],
             [
              0.7777777777777778,
              "#fb9f3a"
             ],
             [
              0.8888888888888888,
              "#fdca26"
             ],
             [
              1,
              "#f0f921"
             ]
            ],
            "type": "surface"
           }
          ],
          "table": [
           {
            "cells": {
             "fill": {
              "color": "#506784"
             },
             "line": {
              "color": "rgb(17,17,17)"
             }
            },
            "header": {
             "fill": {
              "color": "#2a3f5f"
             },
             "line": {
              "color": "rgb(17,17,17)"
             }
            },
            "type": "table"
           }
          ]
         },
         "layout": {
          "annotationdefaults": {
           "arrowcolor": "#f2f5fa",
           "arrowhead": 0,
           "arrowwidth": 1
          },
          "autotypenumbers": "strict",
          "coloraxis": {
           "colorbar": {
            "outlinewidth": 0,
            "ticks": ""
           }
          },
          "colorscale": {
           "diverging": [
            [
             0,
             "#8e0152"
            ],
            [
             0.1,
             "#c51b7d"
            ],
            [
             0.2,
             "#de77ae"
            ],
            [
             0.3,
             "#f1b6da"
            ],
            [
             0.4,
             "#fde0ef"
            ],
            [
             0.5,
             "#f7f7f7"
            ],
            [
             0.6,
             "#e6f5d0"
            ],
            [
             0.7,
             "#b8e186"
            ],
            [
             0.8,
             "#7fbc41"
            ],
            [
             0.9,
             "#4d9221"
            ],
            [
             1,
             "#276419"
            ]
           ],
           "sequential": [
            [
             0,
             "#0d0887"
            ],
            [
             0.1111111111111111,
             "#46039f"
            ],
            [
             0.2222222222222222,
             "#7201a8"
            ],
            [
             0.3333333333333333,
             "#9c179e"
            ],
            [
             0.4444444444444444,
             "#bd3786"
            ],
            [
             0.5555555555555556,
             "#d8576b"
            ],
            [
             0.6666666666666666,
             "#ed7953"
            ],
            [
             0.7777777777777778,
             "#fb9f3a"
            ],
            [
             0.8888888888888888,
             "#fdca26"
            ],
            [
             1,
             "#f0f921"
            ]
           ],
           "sequentialminus": [
            [
             0,
             "#0d0887"
            ],
            [
             0.1111111111111111,
             "#46039f"
            ],
            [
             0.2222222222222222,
             "#7201a8"
            ],
            [
             0.3333333333333333,
             "#9c179e"
            ],
            [
             0.4444444444444444,
             "#bd3786"
            ],
            [
             0.5555555555555556,
             "#d8576b"
            ],
            [
             0.6666666666666666,
             "#ed7953"
            ],
            [
             0.7777777777777778,
             "#fb9f3a"
            ],
            [
             0.8888888888888888,
             "#fdca26"
            ],
            [
             1,
             "#f0f921"
            ]
           ]
          },
          "colorway": [
           "#636efa",
           "#EF553B",
           "#00cc96",
           "#ab63fa",
           "#FFA15A",
           "#19d3f3",
           "#FF6692",
           "#B6E880",
           "#FF97FF",
           "#FECB52"
          ],
          "font": {
           "color": "#f2f5fa"
          },
          "geo": {
           "bgcolor": "rgb(17,17,17)",
           "lakecolor": "rgb(17,17,17)",
           "landcolor": "rgb(17,17,17)",
           "showlakes": true,
           "showland": true,
           "subunitcolor": "#506784"
          },
          "hoverlabel": {
           "align": "left"
          },
          "hovermode": "closest",
          "mapbox": {
           "style": "dark"
          },
          "paper_bgcolor": "rgb(17,17,17)",
          "plot_bgcolor": "rgb(17,17,17)",
          "polar": {
           "angularaxis": {
            "gridcolor": "#506784",
            "linecolor": "#506784",
            "ticks": ""
           },
           "bgcolor": "rgb(17,17,17)",
           "radialaxis": {
            "gridcolor": "#506784",
            "linecolor": "#506784",
            "ticks": ""
           }
          },
          "scene": {
           "xaxis": {
            "backgroundcolor": "rgb(17,17,17)",
            "gridcolor": "#506784",
            "gridwidth": 2,
            "linecolor": "#506784",
            "showbackground": true,
            "ticks": "",
            "zerolinecolor": "#C8D4E3"
           },
           "yaxis": {
            "backgroundcolor": "rgb(17,17,17)",
            "gridcolor": "#506784",
            "gridwidth": 2,
            "linecolor": "#506784",
            "showbackground": true,
            "ticks": "",
            "zerolinecolor": "#C8D4E3"
           },
           "zaxis": {
            "backgroundcolor": "rgb(17,17,17)",
            "gridcolor": "#506784",
            "gridwidth": 2,
            "linecolor": "#506784",
            "showbackground": true,
            "ticks": "",
            "zerolinecolor": "#C8D4E3"
           }
          },
          "shapedefaults": {
           "line": {
            "color": "#f2f5fa"
           }
          },
          "sliderdefaults": {
           "bgcolor": "#C8D4E3",
           "bordercolor": "rgb(17,17,17)",
           "borderwidth": 1,
           "tickwidth": 0
          },
          "ternary": {
           "aaxis": {
            "gridcolor": "#506784",
            "linecolor": "#506784",
            "ticks": ""
           },
           "baxis": {
            "gridcolor": "#506784",
            "linecolor": "#506784",
            "ticks": ""
           },
           "bgcolor": "rgb(17,17,17)",
           "caxis": {
            "gridcolor": "#506784",
            "linecolor": "#506784",
            "ticks": ""
           }
          },
          "title": {
           "x": 0.05
          },
          "updatemenudefaults": {
           "bgcolor": "#506784",
           "borderwidth": 0
          },
          "xaxis": {
           "automargin": true,
           "gridcolor": "#283442",
           "linecolor": "#506784",
           "ticks": "",
           "title": {
            "standoff": 15
           },
           "zerolinecolor": "#283442",
           "zerolinewidth": 2
          },
          "yaxis": {
           "automargin": true,
           "gridcolor": "#283442",
           "linecolor": "#506784",
           "ticks": "",
           "title": {
            "standoff": 15
           },
           "zerolinecolor": "#283442",
           "zerolinewidth": 2
          }
         }
        },
        "title": {
         "text": "Scatter Plot of cross Market Price and Sale Price"
        },
        "xaxis": {
         "anchor": "y",
         "domain": [
          0,
          1
         ],
         "title": {
          "text": "sale_price"
         }
        },
        "yaxis": {
         "anchor": "x",
         "domain": [
          0,
          1
         ],
         "title": {
          "text": "market_price"
         }
        }
       }
      }
     },
     "metadata": {},
     "output_type": "display_data"
    }
   ],
   "source": [
    "fig4 = px.scatter(avg_sale_price_df, x=\"sale_price\", y=\"market_price\", color=\"sale_price\",\n",
    "                 size='sale_price', hover_data=['category', 'sale_price', 'market_price', 'rating'], template = 'plotly_dark', \n",
    "                 title='Scatter Plot of cross Market Price and Sale Price',height=800)\n",
    "fig4.show()"
   ]
  },
  {
   "cell_type": "markdown",
   "metadata": {},
   "source": [
    "#### Moving towards Sub Category"
   ]
  },
  {
   "cell_type": "code",
   "execution_count": 31,
   "metadata": {},
   "outputs": [
    {
     "data": {
      "text/html": [
       "<div>\n",
       "<style scoped>\n",
       "    .dataframe tbody tr th:only-of-type {\n",
       "        vertical-align: middle;\n",
       "    }\n",
       "\n",
       "    .dataframe tbody tr th {\n",
       "        vertical-align: top;\n",
       "    }\n",
       "\n",
       "    .dataframe thead th {\n",
       "        text-align: right;\n",
       "    }\n",
       "</style>\n",
       "<table border=\"1\" class=\"dataframe\">\n",
       "  <thead>\n",
       "    <tr style=\"text-align: right;\">\n",
       "      <th></th>\n",
       "      <th>index</th>\n",
       "      <th>product</th>\n",
       "      <th>category</th>\n",
       "      <th>sub_category</th>\n",
       "      <th>brand</th>\n",
       "      <th>sale_price</th>\n",
       "      <th>market_price</th>\n",
       "      <th>type</th>\n",
       "      <th>rating</th>\n",
       "      <th>description</th>\n",
       "    </tr>\n",
       "  </thead>\n",
       "  <tbody>\n",
       "    <tr>\n",
       "      <th>0</th>\n",
       "      <td>1</td>\n",
       "      <td>Garlic Oil - Vegetarian Capsule 500 mg</td>\n",
       "      <td>Beauty &amp; Hygiene</td>\n",
       "      <td>Hair Care</td>\n",
       "      <td>Sri Sri Ayurveda</td>\n",
       "      <td>220.0</td>\n",
       "      <td>220.0</td>\n",
       "      <td>Hair Oil &amp; Serum</td>\n",
       "      <td>4.1</td>\n",
       "      <td>This Product contains Garlic Oil that is known...</td>\n",
       "    </tr>\n",
       "    <tr>\n",
       "      <th>1</th>\n",
       "      <td>2</td>\n",
       "      <td>Water Bottle - Orange</td>\n",
       "      <td>Kitchen, Garden &amp; Pets</td>\n",
       "      <td>Storage &amp; Accessories</td>\n",
       "      <td>Mastercook</td>\n",
       "      <td>180.0</td>\n",
       "      <td>180.0</td>\n",
       "      <td>Water &amp; Fridge Bottles</td>\n",
       "      <td>2.3</td>\n",
       "      <td>Each product is microwave safe (without lid), ...</td>\n",
       "    </tr>\n",
       "    <tr>\n",
       "      <th>2</th>\n",
       "      <td>3</td>\n",
       "      <td>Brass Angle Deep - Plain, No.2</td>\n",
       "      <td>Cleaning &amp; Household</td>\n",
       "      <td>Pooja Needs</td>\n",
       "      <td>Trm</td>\n",
       "      <td>119.0</td>\n",
       "      <td>250.0</td>\n",
       "      <td>Lamp &amp; Lamp Oil</td>\n",
       "      <td>3.4</td>\n",
       "      <td>A perfect gift for all occasions, be it your m...</td>\n",
       "    </tr>\n",
       "    <tr>\n",
       "      <th>3</th>\n",
       "      <td>4</td>\n",
       "      <td>Cereal Flip Lid Container/Storage Jar - Assort...</td>\n",
       "      <td>Cleaning &amp; Household</td>\n",
       "      <td>Bins &amp; Bathroom Ware</td>\n",
       "      <td>Nakoda</td>\n",
       "      <td>149.0</td>\n",
       "      <td>176.0</td>\n",
       "      <td>Laundry, Storage Baskets</td>\n",
       "      <td>3.7</td>\n",
       "      <td>Multipurpose container with an attractive desi...</td>\n",
       "    </tr>\n",
       "    <tr>\n",
       "      <th>4</th>\n",
       "      <td>5</td>\n",
       "      <td>Creme Soft Soap - For Hands &amp; Body</td>\n",
       "      <td>Beauty &amp; Hygiene</td>\n",
       "      <td>Bath &amp; Hand Wash</td>\n",
       "      <td>Nivea</td>\n",
       "      <td>162.0</td>\n",
       "      <td>162.0</td>\n",
       "      <td>Bathing Bars &amp; Soaps</td>\n",
       "      <td>4.4</td>\n",
       "      <td>Nivea Creme Soft Soap gives your skin the best...</td>\n",
       "    </tr>\n",
       "  </tbody>\n",
       "</table>\n",
       "</div>"
      ],
      "text/plain": [
       "   index                                            product  \\\n",
       "0      1             Garlic Oil - Vegetarian Capsule 500 mg   \n",
       "1      2                              Water Bottle - Orange   \n",
       "2      3                     Brass Angle Deep - Plain, No.2   \n",
       "3      4  Cereal Flip Lid Container/Storage Jar - Assort...   \n",
       "4      5                 Creme Soft Soap - For Hands & Body   \n",
       "\n",
       "                 category           sub_category              brand  \\\n",
       "0        Beauty & Hygiene              Hair Care  Sri Sri Ayurveda    \n",
       "1  Kitchen, Garden & Pets  Storage & Accessories         Mastercook   \n",
       "2    Cleaning & Household            Pooja Needs                Trm   \n",
       "3    Cleaning & Household   Bins & Bathroom Ware             Nakoda   \n",
       "4        Beauty & Hygiene       Bath & Hand Wash              Nivea   \n",
       "\n",
       "   sale_price  market_price                      type  rating  \\\n",
       "0       220.0         220.0          Hair Oil & Serum     4.1   \n",
       "1       180.0         180.0    Water & Fridge Bottles     2.3   \n",
       "2       119.0         250.0           Lamp & Lamp Oil     3.4   \n",
       "3       149.0         176.0  Laundry, Storage Baskets     3.7   \n",
       "4       162.0         162.0      Bathing Bars & Soaps     4.4   \n",
       "\n",
       "                                         description  \n",
       "0  This Product contains Garlic Oil that is known...  \n",
       "1  Each product is microwave safe (without lid), ...  \n",
       "2  A perfect gift for all occasions, be it your m...  \n",
       "3  Multipurpose container with an attractive desi...  \n",
       "4  Nivea Creme Soft Soap gives your skin the best...  "
      ]
     },
     "execution_count": 31,
     "metadata": {},
     "output_type": "execute_result"
    }
   ],
   "source": [
    "df.head()"
   ]
  },
  {
   "cell_type": "code",
   "execution_count": 32,
   "metadata": {},
   "outputs": [
    {
     "data": {
      "text/html": [
       "<div>\n",
       "<style scoped>\n",
       "    .dataframe tbody tr th:only-of-type {\n",
       "        vertical-align: middle;\n",
       "    }\n",
       "\n",
       "    .dataframe tbody tr th {\n",
       "        vertical-align: top;\n",
       "    }\n",
       "\n",
       "    .dataframe thead th {\n",
       "        text-align: right;\n",
       "    }\n",
       "</style>\n",
       "<table border=\"1\" class=\"dataframe\">\n",
       "  <thead>\n",
       "    <tr style=\"text-align: right;\">\n",
       "      <th></th>\n",
       "      <th>rating</th>\n",
       "      <th>market_price</th>\n",
       "      <th>sale_price</th>\n",
       "    </tr>\n",
       "    <tr>\n",
       "      <th>sub_category</th>\n",
       "      <th></th>\n",
       "      <th></th>\n",
       "      <th></th>\n",
       "    </tr>\n",
       "  </thead>\n",
       "  <tbody>\n",
       "    <tr>\n",
       "      <th>All Purpose Cleaners</th>\n",
       "      <td>4.056344</td>\n",
       "      <td>293.566316</td>\n",
       "      <td>271.590611</td>\n",
       "    </tr>\n",
       "    <tr>\n",
       "      <th>Appliances &amp; Electricals</th>\n",
       "      <td>3.750623</td>\n",
       "      <td>418.391304</td>\n",
       "      <td>256.474275</td>\n",
       "    </tr>\n",
       "    <tr>\n",
       "      <th>Atta, Flours &amp; Sooji</th>\n",
       "      <td>4.035397</td>\n",
       "      <td>182.467105</td>\n",
       "      <td>149.826579</td>\n",
       "    </tr>\n",
       "    <tr>\n",
       "      <th>Baby Accessories</th>\n",
       "      <td>3.333457</td>\n",
       "      <td>409.648649</td>\n",
       "      <td>409.648649</td>\n",
       "    </tr>\n",
       "    <tr>\n",
       "      <th>Baby Bath &amp; Hygiene</th>\n",
       "      <td>4.093454</td>\n",
       "      <td>433.451456</td>\n",
       "      <td>419.088689</td>\n",
       "    </tr>\n",
       "    <tr>\n",
       "      <th>...</th>\n",
       "      <td>...</td>\n",
       "      <td>...</td>\n",
       "      <td>...</td>\n",
       "    </tr>\n",
       "    <tr>\n",
       "      <th>Steel Utensils</th>\n",
       "      <td>3.590807</td>\n",
       "      <td>689.781870</td>\n",
       "      <td>416.385269</td>\n",
       "    </tr>\n",
       "    <tr>\n",
       "      <th>Storage &amp; Accessories</th>\n",
       "      <td>3.721733</td>\n",
       "      <td>431.735961</td>\n",
       "      <td>303.489655</td>\n",
       "    </tr>\n",
       "    <tr>\n",
       "      <th>Tea</th>\n",
       "      <td>4.104538</td>\n",
       "      <td>327.829341</td>\n",
       "      <td>269.842874</td>\n",
       "    </tr>\n",
       "    <tr>\n",
       "      <th>Tinned &amp; Processed Food</th>\n",
       "      <td>4.059476</td>\n",
       "      <td>240.583333</td>\n",
       "      <td>226.641964</td>\n",
       "    </tr>\n",
       "    <tr>\n",
       "      <th>Water</th>\n",
       "      <td>4.169698</td>\n",
       "      <td>155.882353</td>\n",
       "      <td>153.191176</td>\n",
       "    </tr>\n",
       "  </tbody>\n",
       "</table>\n",
       "<p>90 rows × 3 columns</p>\n",
       "</div>"
      ],
      "text/plain": [
       "                            rating  market_price  sale_price\n",
       "sub_category                                                \n",
       "All Purpose Cleaners      4.056344    293.566316  271.590611\n",
       "Appliances & Electricals  3.750623    418.391304  256.474275\n",
       "Atta, Flours & Sooji      4.035397    182.467105  149.826579\n",
       "Baby Accessories          3.333457    409.648649  409.648649\n",
       "Baby Bath & Hygiene       4.093454    433.451456  419.088689\n",
       "...                            ...           ...         ...\n",
       "Steel Utensils            3.590807    689.781870  416.385269\n",
       "Storage & Accessories     3.721733    431.735961  303.489655\n",
       "Tea                       4.104538    327.829341  269.842874\n",
       "Tinned & Processed Food   4.059476    240.583333  226.641964\n",
       "Water                     4.169698    155.882353  153.191176\n",
       "\n",
       "[90 rows x 3 columns]"
      ]
     },
     "execution_count": 32,
     "metadata": {},
     "output_type": "execute_result"
    }
   ],
   "source": [
    "# AVG Rating, Sale Price & market_price Per Sub-catagory\n",
    "AVG_SUB_DF = df[['sub_category', 'rating', 'market_price', 'sale_price']].groupby(['sub_category']).mean()\n",
    "AVG_SUB_DF"
   ]
  },
  {
   "cell_type": "code",
   "execution_count": 33,
   "metadata": {},
   "outputs": [],
   "source": [
    "AVG_SUB_DF = AVG_SUB_DF.reset_index().sort_values('rating', ascending=False)"
   ]
  },
  {
   "cell_type": "code",
   "execution_count": 34,
   "metadata": {},
   "outputs": [],
   "source": [
    "AVG_SUB_DF = np.round(AVG_SUB_DF, 2)"
   ]
  },
  {
   "cell_type": "code",
   "execution_count": 35,
   "metadata": {},
   "outputs": [
    {
     "data": {
      "text/html": [
       "<div>\n",
       "<style scoped>\n",
       "    .dataframe tbody tr th:only-of-type {\n",
       "        vertical-align: middle;\n",
       "    }\n",
       "\n",
       "    .dataframe tbody tr th {\n",
       "        vertical-align: top;\n",
       "    }\n",
       "\n",
       "    .dataframe thead th {\n",
       "        text-align: right;\n",
       "    }\n",
       "</style>\n",
       "<table border=\"1\" class=\"dataframe\">\n",
       "  <thead>\n",
       "    <tr style=\"text-align: right;\">\n",
       "      <th></th>\n",
       "      <th>sub_category</th>\n",
       "      <th>rating</th>\n",
       "      <th>market_price</th>\n",
       "      <th>sale_price</th>\n",
       "    </tr>\n",
       "  </thead>\n",
       "  <tbody>\n",
       "    <tr>\n",
       "      <th>27</th>\n",
       "      <td>Detergents &amp; Dishwash</td>\n",
       "      <td>4.20</td>\n",
       "      <td>312.69</td>\n",
       "      <td>269.75</td>\n",
       "    </tr>\n",
       "    <tr>\n",
       "      <th>89</th>\n",
       "      <td>Water</td>\n",
       "      <td>4.17</td>\n",
       "      <td>155.88</td>\n",
       "      <td>153.19</td>\n",
       "    </tr>\n",
       "    <tr>\n",
       "      <th>5</th>\n",
       "      <td>Baby Food &amp; Formula</td>\n",
       "      <td>4.17</td>\n",
       "      <td>361.44</td>\n",
       "      <td>358.32</td>\n",
       "    </tr>\n",
       "    <tr>\n",
       "      <th>34</th>\n",
       "      <td>Energy &amp; Soft Drinks</td>\n",
       "      <td>4.16</td>\n",
       "      <td>160.73</td>\n",
       "      <td>150.44</td>\n",
       "    </tr>\n",
       "    <tr>\n",
       "      <th>10</th>\n",
       "      <td>Biscuits &amp; Cookies</td>\n",
       "      <td>4.15</td>\n",
       "      <td>76.68</td>\n",
       "      <td>65.29</td>\n",
       "    </tr>\n",
       "  </tbody>\n",
       "</table>\n",
       "</div>"
      ],
      "text/plain": [
       "             sub_category  rating  market_price  sale_price\n",
       "27  Detergents & Dishwash    4.20        312.69      269.75\n",
       "89                  Water    4.17        155.88      153.19\n",
       "5     Baby Food & Formula    4.17        361.44      358.32\n",
       "34   Energy & Soft Drinks    4.16        160.73      150.44\n",
       "10     Biscuits & Cookies    4.15         76.68       65.29"
      ]
     },
     "execution_count": 35,
     "metadata": {},
     "output_type": "execute_result"
    }
   ],
   "source": [
    "AVG_SUB_DF.head()"
   ]
  },
  {
   "cell_type": "markdown",
   "metadata": {},
   "source": [
    "#### Scatter Plot of cross Market Price and Sale Price Per Sub Category"
   ]
  },
  {
   "cell_type": "code",
   "execution_count": 36,
   "metadata": {},
   "outputs": [
    {
     "data": {
      "application/vnd.plotly.v1+json": {
       "config": {
        "plotlyServerURL": "https://plot.ly"
       },
       "data": [
        {
         "customdata": [
          [
           "Detergents & Dishwash",
           4.2
          ],
          [
           "Water",
           4.17
          ],
          [
           "Baby Food & Formula",
           4.17
          ],
          [
           "Energy & Soft Drinks",
           4.16
          ],
          [
           "Biscuits & Cookies",
           4.15
          ],
          [
           "Edible Oils & Ghee",
           4.13
          ],
          [
           "Health Drink, Supplement",
           4.13
          ],
          [
           "Oils & Vinegar",
           4.12
          ],
          [
           "Salt, Sugar & Jaggery",
           4.11
          ],
          [
           "Chocolates & Candies",
           4.11
          ],
          [
           "Masalas & Spices",
           4.11
          ],
          [
           "Tea",
           4.1
          ],
          [
           "Noodle, Pasta, Vermicelli",
           4.1
          ],
          [
           "Oral Care",
           4.1
          ],
          [
           "Baby Bath & Hygiene",
           4.09
          ],
          [
           "Diapers & Wipes",
           4.09
          ],
          [
           "Feminine Hygiene",
           4.08
          ],
          [
           "Disposables, Garbage Bag",
           4.07
          ],
          [
           "Bath & Hand Wash",
           4.07
          ],
          [
           "Tinned & Processed Food",
           4.06
          ],
          [
           "All Purpose Cleaners",
           4.06
          ],
          [
           "Pasta, Soup & Noodles",
           4.04
          ],
          [
           "Rice & Rice Products",
           4.04
          ],
          [
           "Dairy",
           4.04
          ],
          [
           "Atta, Flours & Sooji",
           4.04
          ],
          [
           "Organic Staples",
           4.03
          ],
          [
           "Fruit Juices & Drinks",
           4.03
          ],
          [
           "Dals & Pulses",
           4.02
          ],
          [
           "Breakfast Cereals",
           4.02
          ],
          [
           "Stationery",
           4.01
          ],
          [
           "Cereals & Breakfast",
           4
          ],
          [
           "Sauces, Spreads & Dips",
           4
          ],
          [
           "Cuts & Sprouts",
           4
          ],
          [
           "Coffee",
           4
          ],
          [
           "Cooking & Baking Needs",
           3.99
          ],
          [
           "Spreads, Sauces, Ketchup",
           3.99
          ],
          [
           "Mothers & Maternity",
           3.99
          ],
          [
           "Mutton & Lamb",
           3.98
          ],
          [
           "Fresheners & Repellents",
           3.98
          ],
          [
           "Dairy & Cheese",
           3.97
          ],
          [
           "Snacks, Dry Fruits, Nuts",
           3.97
          ],
          [
           "Drinks & Beverages",
           3.97
          ],
          [
           "Hair Care",
           3.97
          ],
          [
           "Snacks & Namkeen",
           3.95
          ],
          [
           "Makeup",
           3.95
          ],
          [
           "Pickles & Chutney",
           3.95
          ],
          [
           "Gourmet Breads",
           3.95
          ],
          [
           "Pet Food & Accessories",
           3.94
          ],
          [
           "Skin Care",
           3.93
          ],
          [
           "Ready To Cook & Eat",
           3.92
          ],
          [
           "Dry Fruits",
           3.92
          ],
          [
           "Men's Grooming",
           3.91
          ],
          [
           "Breads & Buns",
           3.91
          ],
          [
           "Chocolates & Biscuits",
           3.9
          ],
          [
           "Pooja Needs",
           3.88
          ],
          [
           "Indian Mithai",
           3.87
          ],
          [
           "Car & Shoe Care",
           3.87
          ],
          [
           "Health & Medicine",
           3.86
          ],
          [
           "Bakery Snacks",
           3.85
          ],
          [
           "Cookies, Rusk & Khari",
           3.83
          ],
          [
           "Mops, Brushes & Scrubs",
           3.81
          ],
          [
           "Feeding & Nursing",
           3.81
          ],
          [
           "Party & Festive Needs",
           3.81
          ],
          [
           "Cakes & Pastries",
           3.79
          ],
          [
           "Crockery & Cutlery",
           3.79
          ],
          [
           "Fragrances & Deos",
           3.77
          ],
          [
           "Frozen Veggies & Snacks",
           3.76
          ],
          [
           "Bins & Bathroom Ware",
           3.75
          ],
          [
           "Appliances & Electricals",
           3.75
          ],
          [
           "Non Dairy",
           3.74
          ],
          [
           "Kitchen Accessories",
           3.73
          ],
          [
           "Storage & Accessories",
           3.72
          ],
          [
           "Flask & Casserole",
           3.65
          ],
          [
           "Ice Creams & Desserts",
           3.63
          ],
          [
           "Gardening",
           3.63
          ],
          [
           "Cookware & Non Stick",
           3.61
          ],
          [
           "Steel Utensils",
           3.59
          ],
          [
           "Bakeware",
           3.56
          ],
          [
           "Baby Accessories",
           3.33
          ],
          [
           "Eggs",
           null
          ],
          [
           "Exotic Fruits & Veggies",
           null
          ],
          [
           "Fish & Seafood",
           null
          ],
          [
           "Flower Bouquets, Bunches",
           null
          ],
          [
           "Fresh Fruits",
           null
          ],
          [
           "Fresh Vegetables",
           null
          ],
          [
           "Herbs & Seasonings",
           null
          ],
          [
           "Marinades",
           null
          ],
          [
           "Organic Fruits & Vegetables",
           null
          ],
          [
           "Pork & Other Meats",
           null
          ],
          [
           "Sausages, Bacon & Salami",
           null
          ]
         ],
         "hovertemplate": "sale_price=%{marker.color}<br>market_price=%{y}<br>sub_category=%{customdata[0]}<br>rating=%{customdata[1]}<extra></extra>",
         "legendgroup": "",
         "marker": {
          "color": [
           269.75,
           153.19,
           358.32,
           150.44,
           65.29,
           540.91,
           419.41,
           952.41,
           139.83,
           132.91,
           90.49,
           269.84,
           71.82,
           182.26,
           419.09,
           741.91,
           316.74,
           210.46,
           229.83,
           226.64,
           271.59,
           218.34,
           359.83,
           149.44,
           149.83,
           164.73,
           180.67,
           138.28,
           274.39,
           147.12,
           348.7,
           316.34,
           37.06,
           207.98,
           253.59,
           221.04,
           443.42,
           716,
           220.22,
           341.32,
           227.91,
           371.98,
           383.55,
           67.35,
           329.42,
           124.97,
           107.46,
           857.35,
           412.12,
           91.16,
           255.47,
           322.87,
           75.99,
           269.82,
           136.77,
           256.47,
           198.1,
           365.7,
           126.79,
           132.86,
           264.37,
           268.58,
           143.81,
           146.34,
           522.79,
           893.1,
           179.45,
           272.69,
           256.47,
           224.65,
           245.42,
           303.49,
           505.73,
           170.05,
           290.12,
           1204.87,
           416.39,
           214.67,
           409.65,
           129.53,
           60.25,
           277.22,
           83.25,
           95.4,
           30.77,
           31.08,
           225,
           34.65,
           263,
           282.24
          ],
          "coloraxis": "coloraxis",
          "size": [
           269.75,
           153.19,
           358.32,
           150.44,
           65.29,
           540.91,
           419.41,
           952.41,
           139.83,
           132.91,
           90.49,
           269.84,
           71.82,
           182.26,
           419.09,
           741.91,
           316.74,
           210.46,
           229.83,
           226.64,
           271.59,
           218.34,
           359.83,
           149.44,
           149.83,
           164.73,
           180.67,
           138.28,
           274.39,
           147.12,
           348.7,
           316.34,
           37.06,
           207.98,
           253.59,
           221.04,
           443.42,
           716,
           220.22,
           341.32,
           227.91,
           371.98,
           383.55,
           67.35,
           329.42,
           124.97,
           107.46,
           857.35,
           412.12,
           91.16,
           255.47,
           322.87,
           75.99,
           269.82,
           136.77,
           256.47,
           198.1,
           365.7,
           126.79,
           132.86,
           264.37,
           268.58,
           143.81,
           146.34,
           522.79,
           893.1,
           179.45,
           272.69,
           256.47,
           224.65,
           245.42,
           303.49,
           505.73,
           170.05,
           290.12,
           1204.87,
           416.39,
           214.67,
           409.65,
           129.53,
           60.25,
           277.22,
           83.25,
           95.4,
           30.77,
           31.08,
           225,
           34.65,
           263,
           282.24
          ],
          "sizemode": "area",
          "sizeref": 3.0121749999999996,
          "symbol": "circle"
         },
         "mode": "markers",
         "name": "",
         "orientation": "v",
         "showlegend": false,
         "type": "scatter",
         "x": [
          269.75,
          153.19,
          358.32,
          150.44,
          65.29,
          540.91,
          419.41,
          952.41,
          139.83,
          132.91,
          90.49,
          269.84,
          71.82,
          182.26,
          419.09,
          741.91,
          316.74,
          210.46,
          229.83,
          226.64,
          271.59,
          218.34,
          359.83,
          149.44,
          149.83,
          164.73,
          180.67,
          138.28,
          274.39,
          147.12,
          348.7,
          316.34,
          37.06,
          207.98,
          253.59,
          221.04,
          443.42,
          716,
          220.22,
          341.32,
          227.91,
          371.98,
          383.55,
          67.35,
          329.42,
          124.97,
          107.46,
          857.35,
          412.12,
          91.16,
          255.47,
          322.87,
          75.99,
          269.82,
          136.77,
          256.47,
          198.1,
          365.7,
          126.79,
          132.86,
          264.37,
          268.58,
          143.81,
          146.34,
          522.79,
          893.1,
          179.45,
          272.69,
          256.47,
          224.65,
          245.42,
          303.49,
          505.73,
          170.05,
          290.12,
          1204.87,
          416.39,
          214.67,
          409.65,
          129.53,
          60.25,
          277.22,
          83.25,
          95.4,
          30.77,
          31.08,
          225,
          34.65,
          263,
          282.24
         ],
         "xaxis": "x",
         "y": [
          312.69,
          155.88,
          361.44,
          160.73,
          76.68,
          631.56,
          444.4,
          1183.74,
          157.15,
          142.76,
          103.23,
          327.83,
          77.48,
          206.83,
          433.45,
          881.6,
          370.62,
          221.66,
          258.28,
          240.58,
          293.57,
          262.88,
          467.44,
          167.49,
          182.47,
          188.77,
          200.1,
          175.26,
          300.19,
          169.23,
          381.4,
          342.39,
          45.81,
          220.86,
          268.52,
          235.97,
          471.71,
          919.65,
          234.73,
          359.34,
          259.57,
          409.74,
          430.7,
          71.83,
          455.33,
          128.78,
          107.66,
          927.44,
          482.88,
          99.81,
          315.58,
          395.79,
          79.17,
          298.2,
          198.84,
          259,
          208.02,
          382.77,
          148.18,
          150.33,
          319.32,
          268.58,
          162.08,
          154.42,
          641.06,
          1136.05,
          205.67,
          332.54,
          418.39,
          267.34,
          327.44,
          431.74,
          687.71,
          178.15,
          290.12,
          1551.21,
          689.78,
          360.31,
          409.65,
          136,
          75.39,
          315.39,
          104.06,
          120.23,
          40.56,
          40.58,
          225,
          43.47,
          263,
          307.7
         ],
         "yaxis": "y"
        }
       ],
       "layout": {
        "coloraxis": {
         "colorbar": {
          "title": {
           "text": "sale_price"
          }
         },
         "colorscale": [
          [
           0,
           "#0d0887"
          ],
          [
           0.1111111111111111,
           "#46039f"
          ],
          [
           0.2222222222222222,
           "#7201a8"
          ],
          [
           0.3333333333333333,
           "#9c179e"
          ],
          [
           0.4444444444444444,
           "#bd3786"
          ],
          [
           0.5555555555555556,
           "#d8576b"
          ],
          [
           0.6666666666666666,
           "#ed7953"
          ],
          [
           0.7777777777777778,
           "#fb9f3a"
          ],
          [
           0.8888888888888888,
           "#fdca26"
          ],
          [
           1,
           "#f0f921"
          ]
         ]
        },
        "height": 800,
        "legend": {
         "itemsizing": "constant",
         "tracegroupgap": 0
        },
        "template": {
         "data": {
          "bar": [
           {
            "error_x": {
             "color": "#f2f5fa"
            },
            "error_y": {
             "color": "#f2f5fa"
            },
            "marker": {
             "line": {
              "color": "rgb(17,17,17)",
              "width": 0.5
             },
             "pattern": {
              "fillmode": "overlay",
              "size": 10,
              "solidity": 0.2
             }
            },
            "type": "bar"
           }
          ],
          "barpolar": [
           {
            "marker": {
             "line": {
              "color": "rgb(17,17,17)",
              "width": 0.5
             },
             "pattern": {
              "fillmode": "overlay",
              "size": 10,
              "solidity": 0.2
             }
            },
            "type": "barpolar"
           }
          ],
          "carpet": [
           {
            "aaxis": {
             "endlinecolor": "#A2B1C6",
             "gridcolor": "#506784",
             "linecolor": "#506784",
             "minorgridcolor": "#506784",
             "startlinecolor": "#A2B1C6"
            },
            "baxis": {
             "endlinecolor": "#A2B1C6",
             "gridcolor": "#506784",
             "linecolor": "#506784",
             "minorgridcolor": "#506784",
             "startlinecolor": "#A2B1C6"
            },
            "type": "carpet"
           }
          ],
          "choropleth": [
           {
            "colorbar": {
             "outlinewidth": 0,
             "ticks": ""
            },
            "type": "choropleth"
           }
          ],
          "contour": [
           {
            "colorbar": {
             "outlinewidth": 0,
             "ticks": ""
            },
            "colorscale": [
             [
              0,
              "#0d0887"
             ],
             [
              0.1111111111111111,
              "#46039f"
             ],
             [
              0.2222222222222222,
              "#7201a8"
             ],
             [
              0.3333333333333333,
              "#9c179e"
             ],
             [
              0.4444444444444444,
              "#bd3786"
             ],
             [
              0.5555555555555556,
              "#d8576b"
             ],
             [
              0.6666666666666666,
              "#ed7953"
             ],
             [
              0.7777777777777778,
              "#fb9f3a"
             ],
             [
              0.8888888888888888,
              "#fdca26"
             ],
             [
              1,
              "#f0f921"
             ]
            ],
            "type": "contour"
           }
          ],
          "contourcarpet": [
           {
            "colorbar": {
             "outlinewidth": 0,
             "ticks": ""
            },
            "type": "contourcarpet"
           }
          ],
          "heatmap": [
           {
            "colorbar": {
             "outlinewidth": 0,
             "ticks": ""
            },
            "colorscale": [
             [
              0,
              "#0d0887"
             ],
             [
              0.1111111111111111,
              "#46039f"
             ],
             [
              0.2222222222222222,
              "#7201a8"
             ],
             [
              0.3333333333333333,
              "#9c179e"
             ],
             [
              0.4444444444444444,
              "#bd3786"
             ],
             [
              0.5555555555555556,
              "#d8576b"
             ],
             [
              0.6666666666666666,
              "#ed7953"
             ],
             [
              0.7777777777777778,
              "#fb9f3a"
             ],
             [
              0.8888888888888888,
              "#fdca26"
             ],
             [
              1,
              "#f0f921"
             ]
            ],
            "type": "heatmap"
           }
          ],
          "heatmapgl": [
           {
            "colorbar": {
             "outlinewidth": 0,
             "ticks": ""
            },
            "colorscale": [
             [
              0,
              "#0d0887"
             ],
             [
              0.1111111111111111,
              "#46039f"
             ],
             [
              0.2222222222222222,
              "#7201a8"
             ],
             [
              0.3333333333333333,
              "#9c179e"
             ],
             [
              0.4444444444444444,
              "#bd3786"
             ],
             [
              0.5555555555555556,
              "#d8576b"
             ],
             [
              0.6666666666666666,
              "#ed7953"
             ],
             [
              0.7777777777777778,
              "#fb9f3a"
             ],
             [
              0.8888888888888888,
              "#fdca26"
             ],
             [
              1,
              "#f0f921"
             ]
            ],
            "type": "heatmapgl"
           }
          ],
          "histogram": [
           {
            "marker": {
             "pattern": {
              "fillmode": "overlay",
              "size": 10,
              "solidity": 0.2
             }
            },
            "type": "histogram"
           }
          ],
          "histogram2d": [
           {
            "colorbar": {
             "outlinewidth": 0,
             "ticks": ""
            },
            "colorscale": [
             [
              0,
              "#0d0887"
             ],
             [
              0.1111111111111111,
              "#46039f"
             ],
             [
              0.2222222222222222,
              "#7201a8"
             ],
             [
              0.3333333333333333,
              "#9c179e"
             ],
             [
              0.4444444444444444,
              "#bd3786"
             ],
             [
              0.5555555555555556,
              "#d8576b"
             ],
             [
              0.6666666666666666,
              "#ed7953"
             ],
             [
              0.7777777777777778,
              "#fb9f3a"
             ],
             [
              0.8888888888888888,
              "#fdca26"
             ],
             [
              1,
              "#f0f921"
             ]
            ],
            "type": "histogram2d"
           }
          ],
          "histogram2dcontour": [
           {
            "colorbar": {
             "outlinewidth": 0,
             "ticks": ""
            },
            "colorscale": [
             [
              0,
              "#0d0887"
             ],
             [
              0.1111111111111111,
              "#46039f"
             ],
             [
              0.2222222222222222,
              "#7201a8"
             ],
             [
              0.3333333333333333,
              "#9c179e"
             ],
             [
              0.4444444444444444,
              "#bd3786"
             ],
             [
              0.5555555555555556,
              "#d8576b"
             ],
             [
              0.6666666666666666,
              "#ed7953"
             ],
             [
              0.7777777777777778,
              "#fb9f3a"
             ],
             [
              0.8888888888888888,
              "#fdca26"
             ],
             [
              1,
              "#f0f921"
             ]
            ],
            "type": "histogram2dcontour"
           }
          ],
          "mesh3d": [
           {
            "colorbar": {
             "outlinewidth": 0,
             "ticks": ""
            },
            "type": "mesh3d"
           }
          ],
          "parcoords": [
           {
            "line": {
             "colorbar": {
              "outlinewidth": 0,
              "ticks": ""
             }
            },
            "type": "parcoords"
           }
          ],
          "pie": [
           {
            "automargin": true,
            "type": "pie"
           }
          ],
          "scatter": [
           {
            "marker": {
             "line": {
              "color": "#283442"
             }
            },
            "type": "scatter"
           }
          ],
          "scatter3d": [
           {
            "line": {
             "colorbar": {
              "outlinewidth": 0,
              "ticks": ""
             }
            },
            "marker": {
             "colorbar": {
              "outlinewidth": 0,
              "ticks": ""
             }
            },
            "type": "scatter3d"
           }
          ],
          "scattercarpet": [
           {
            "marker": {
             "colorbar": {
              "outlinewidth": 0,
              "ticks": ""
             }
            },
            "type": "scattercarpet"
           }
          ],
          "scattergeo": [
           {
            "marker": {
             "colorbar": {
              "outlinewidth": 0,
              "ticks": ""
             }
            },
            "type": "scattergeo"
           }
          ],
          "scattergl": [
           {
            "marker": {
             "line": {
              "color": "#283442"
             }
            },
            "type": "scattergl"
           }
          ],
          "scattermapbox": [
           {
            "marker": {
             "colorbar": {
              "outlinewidth": 0,
              "ticks": ""
             }
            },
            "type": "scattermapbox"
           }
          ],
          "scatterpolar": [
           {
            "marker": {
             "colorbar": {
              "outlinewidth": 0,
              "ticks": ""
             }
            },
            "type": "scatterpolar"
           }
          ],
          "scatterpolargl": [
           {
            "marker": {
             "colorbar": {
              "outlinewidth": 0,
              "ticks": ""
             }
            },
            "type": "scatterpolargl"
           }
          ],
          "scatterternary": [
           {
            "marker": {
             "colorbar": {
              "outlinewidth": 0,
              "ticks": ""
             }
            },
            "type": "scatterternary"
           }
          ],
          "surface": [
           {
            "colorbar": {
             "outlinewidth": 0,
             "ticks": ""
            },
            "colorscale": [
             [
              0,
              "#0d0887"
             ],
             [
              0.1111111111111111,
              "#46039f"
             ],
             [
              0.2222222222222222,
              "#7201a8"
             ],
             [
              0.3333333333333333,
              "#9c179e"
             ],
             [
              0.4444444444444444,
              "#bd3786"
             ],
             [
              0.5555555555555556,
              "#d8576b"
             ],
             [
              0.6666666666666666,
              "#ed7953"
             ],
             [
              0.7777777777777778,
              "#fb9f3a"
             ],
             [
              0.8888888888888888,
              "#fdca26"
             ],
             [
              1,
              "#f0f921"
             ]
            ],
            "type": "surface"
           }
          ],
          "table": [
           {
            "cells": {
             "fill": {
              "color": "#506784"
             },
             "line": {
              "color": "rgb(17,17,17)"
             }
            },
            "header": {
             "fill": {
              "color": "#2a3f5f"
             },
             "line": {
              "color": "rgb(17,17,17)"
             }
            },
            "type": "table"
           }
          ]
         },
         "layout": {
          "annotationdefaults": {
           "arrowcolor": "#f2f5fa",
           "arrowhead": 0,
           "arrowwidth": 1
          },
          "autotypenumbers": "strict",
          "coloraxis": {
           "colorbar": {
            "outlinewidth": 0,
            "ticks": ""
           }
          },
          "colorscale": {
           "diverging": [
            [
             0,
             "#8e0152"
            ],
            [
             0.1,
             "#c51b7d"
            ],
            [
             0.2,
             "#de77ae"
            ],
            [
             0.3,
             "#f1b6da"
            ],
            [
             0.4,
             "#fde0ef"
            ],
            [
             0.5,
             "#f7f7f7"
            ],
            [
             0.6,
             "#e6f5d0"
            ],
            [
             0.7,
             "#b8e186"
            ],
            [
             0.8,
             "#7fbc41"
            ],
            [
             0.9,
             "#4d9221"
            ],
            [
             1,
             "#276419"
            ]
           ],
           "sequential": [
            [
             0,
             "#0d0887"
            ],
            [
             0.1111111111111111,
             "#46039f"
            ],
            [
             0.2222222222222222,
             "#7201a8"
            ],
            [
             0.3333333333333333,
             "#9c179e"
            ],
            [
             0.4444444444444444,
             "#bd3786"
            ],
            [
             0.5555555555555556,
             "#d8576b"
            ],
            [
             0.6666666666666666,
             "#ed7953"
            ],
            [
             0.7777777777777778,
             "#fb9f3a"
            ],
            [
             0.8888888888888888,
             "#fdca26"
            ],
            [
             1,
             "#f0f921"
            ]
           ],
           "sequentialminus": [
            [
             0,
             "#0d0887"
            ],
            [
             0.1111111111111111,
             "#46039f"
            ],
            [
             0.2222222222222222,
             "#7201a8"
            ],
            [
             0.3333333333333333,
             "#9c179e"
            ],
            [
             0.4444444444444444,
             "#bd3786"
            ],
            [
             0.5555555555555556,
             "#d8576b"
            ],
            [
             0.6666666666666666,
             "#ed7953"
            ],
            [
             0.7777777777777778,
             "#fb9f3a"
            ],
            [
             0.8888888888888888,
             "#fdca26"
            ],
            [
             1,
             "#f0f921"
            ]
           ]
          },
          "colorway": [
           "#636efa",
           "#EF553B",
           "#00cc96",
           "#ab63fa",
           "#FFA15A",
           "#19d3f3",
           "#FF6692",
           "#B6E880",
           "#FF97FF",
           "#FECB52"
          ],
          "font": {
           "color": "#f2f5fa"
          },
          "geo": {
           "bgcolor": "rgb(17,17,17)",
           "lakecolor": "rgb(17,17,17)",
           "landcolor": "rgb(17,17,17)",
           "showlakes": true,
           "showland": true,
           "subunitcolor": "#506784"
          },
          "hoverlabel": {
           "align": "left"
          },
          "hovermode": "closest",
          "mapbox": {
           "style": "dark"
          },
          "paper_bgcolor": "rgb(17,17,17)",
          "plot_bgcolor": "rgb(17,17,17)",
          "polar": {
           "angularaxis": {
            "gridcolor": "#506784",
            "linecolor": "#506784",
            "ticks": ""
           },
           "bgcolor": "rgb(17,17,17)",
           "radialaxis": {
            "gridcolor": "#506784",
            "linecolor": "#506784",
            "ticks": ""
           }
          },
          "scene": {
           "xaxis": {
            "backgroundcolor": "rgb(17,17,17)",
            "gridcolor": "#506784",
            "gridwidth": 2,
            "linecolor": "#506784",
            "showbackground": true,
            "ticks": "",
            "zerolinecolor": "#C8D4E3"
           },
           "yaxis": {
            "backgroundcolor": "rgb(17,17,17)",
            "gridcolor": "#506784",
            "gridwidth": 2,
            "linecolor": "#506784",
            "showbackground": true,
            "ticks": "",
            "zerolinecolor": "#C8D4E3"
           },
           "zaxis": {
            "backgroundcolor": "rgb(17,17,17)",
            "gridcolor": "#506784",
            "gridwidth": 2,
            "linecolor": "#506784",
            "showbackground": true,
            "ticks": "",
            "zerolinecolor": "#C8D4E3"
           }
          },
          "shapedefaults": {
           "line": {
            "color": "#f2f5fa"
           }
          },
          "sliderdefaults": {
           "bgcolor": "#C8D4E3",
           "bordercolor": "rgb(17,17,17)",
           "borderwidth": 1,
           "tickwidth": 0
          },
          "ternary": {
           "aaxis": {
            "gridcolor": "#506784",
            "linecolor": "#506784",
            "ticks": ""
           },
           "baxis": {
            "gridcolor": "#506784",
            "linecolor": "#506784",
            "ticks": ""
           },
           "bgcolor": "rgb(17,17,17)",
           "caxis": {
            "gridcolor": "#506784",
            "linecolor": "#506784",
            "ticks": ""
           }
          },
          "title": {
           "x": 0.05
          },
          "updatemenudefaults": {
           "bgcolor": "#506784",
           "borderwidth": 0
          },
          "xaxis": {
           "automargin": true,
           "gridcolor": "#283442",
           "linecolor": "#506784",
           "ticks": "",
           "title": {
            "standoff": 15
           },
           "zerolinecolor": "#283442",
           "zerolinewidth": 2
          },
          "yaxis": {
           "automargin": true,
           "gridcolor": "#283442",
           "linecolor": "#506784",
           "ticks": "",
           "title": {
            "standoff": 15
           },
           "zerolinecolor": "#283442",
           "zerolinewidth": 2
          }
         }
        },
        "title": {
         "text": "Scatter Plot of cross Market Price and Sale Price Per Sub Category"
        },
        "xaxis": {
         "anchor": "y",
         "domain": [
          0,
          1
         ],
         "title": {
          "text": "sale_price"
         }
        },
        "yaxis": {
         "anchor": "x",
         "domain": [
          0,
          1
         ],
         "title": {
          "text": "market_price"
         }
        }
       }
      }
     },
     "metadata": {},
     "output_type": "display_data"
    }
   ],
   "source": [
    "fig5 = px.scatter(AVG_SUB_DF, x='sale_price', y='market_price', color='sale_price', size='sale_price',\n",
    "                 hover_data=['sub_category', 'sale_price', 'market_price', 'rating'], template='plotly_dark', \n",
    "                 title='Scatter Plot of cross Market Price and Sale Price Per Sub Category', height=800)\n",
    "\n",
    "fig5.show()"
   ]
  },
  {
   "cell_type": "code",
   "execution_count": null,
   "metadata": {},
   "outputs": [],
   "source": []
  }
 ],
 "metadata": {
  "kernelspec": {
   "display_name": "Python 3.9.12 ('base')",
   "language": "python",
   "name": "python3"
  },
  "language_info": {
   "codemirror_mode": {
    "name": "ipython",
    "version": 3
   },
   "file_extension": ".py",
   "mimetype": "text/x-python",
   "name": "python",
   "nbconvert_exporter": "python",
   "pygments_lexer": "ipython3",
   "version": "3.9.12"
  },
  "orig_nbformat": 4,
  "vscode": {
   "interpreter": {
    "hash": "cba19c2fc77091dbb74eda9d1d19b0932dbfa70d3569f5b23de2ad5ec42bc3bd"
   }
  }
 },
 "nbformat": 4,
 "nbformat_minor": 2
}
